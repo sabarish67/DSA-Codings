{
 "cells": [
  {
   "cell_type": "code",
   "execution_count": 31,
   "id": "6a4c2e52-6590-4c5c-8a04-118cbb4b6d84",
   "metadata": {},
   "outputs": [],
   "source": [
    "s = \"sudh\""
   ]
  },
  {
   "cell_type": "code",
   "execution_count": 44,
   "id": "c989311a-1f70-4cb4-b390-1f36860826de",
   "metadata": {},
   "outputs": [
    {
     "data": {
      "text/plain": [
       "'hd'"
      ]
     },
     "execution_count": 44,
     "metadata": {},
     "output_type": "execute_result"
    }
   ],
   "source": [
    "a = \"sudh\"\n",
    "s[0:5]\n",
    "s[2:]\n",
    "s[3:1:-1]"
   ]
  },
  {
   "cell_type": "code",
   "execution_count": 45,
   "id": "d2a2a21f-91cf-4aca-ba7e-7dd1e0266f8d",
   "metadata": {},
   "outputs": [
    {
     "data": {
      "text/plain": [
       "'python'"
      ]
     },
     "execution_count": 45,
     "metadata": {},
     "output_type": "execute_result"
    }
   ],
   "source": [
    "s1 = \"python eng\"\n",
    "s1[0:6]"
   ]
  },
  {
   "cell_type": "code",
   "execution_count": 66,
   "id": "0ab5ffa6-98c6-4d79-ac2d-660ff3df6ec7",
   "metadata": {},
   "outputs": [
    {
     "data": {
      "text/plain": [
       "' TSI MA 54.8 hctab gne nohtyp'"
      ]
     },
     "execution_count": 66,
     "metadata": {},
     "output_type": "execute_result"
    }
   ],
   "source": [
    "l = [1,2,3,4,5,\"sudh\",\"euron\",\"python eng batch 8.45 AM IST \"]\n",
    "l[-1][::-1]"
   ]
  },
  {
   "cell_type": "code",
   "execution_count": 67,
   "id": "cac0d551-a58a-43f7-aae6-0dc4e1c385ad",
   "metadata": {},
   "outputs": [],
   "source": [
    "l1 = [[4,5,6],\"euron\",(4+7j),True,[4,5,6,\"sudh\"]]"
   ]
  },
  {
   "cell_type": "code",
   "execution_count": 69,
   "id": "60ac03dc-11e8-4314-a889-4e836bac10c0",
   "metadata": {},
   "outputs": [
    {
     "data": {
      "text/plain": [
       "'dh'"
      ]
     },
     "execution_count": 69,
     "metadata": {},
     "output_type": "execute_result"
    }
   ],
   "source": [
    "l1[4][3][2:4]"
   ]
  },
  {
   "cell_type": "code",
   "execution_count": 24,
   "id": "02673a0a-6a1f-45d7-9ca6-c9d17dfe9c4b",
   "metadata": {},
   "outputs": [
    {
     "data": {
      "text/plain": [
       "list"
      ]
     },
     "execution_count": 24,
     "metadata": {},
     "output_type": "execute_result"
    }
   ],
   "source": [
    "k = [4,5,6,7,8,9,0]\n",
    "type(k)"
   ]
  },
  {
   "cell_type": "code",
   "execution_count": 25,
   "id": "0f44da52-46d5-4ef3-b008-a74d2d256b29",
   "metadata": {},
   "outputs": [
    {
     "data": {
      "text/plain": [
       "list"
      ]
     },
     "execution_count": 25,
     "metadata": {},
     "output_type": "execute_result"
    }
   ],
   "source": [
    "m = [4,5,6,78,8,\"sudh\",45.6,\"euron\"]\n",
    "type(m)"
   ]
  },
  {
   "cell_type": "code",
   "execution_count": 28,
   "id": "802f2f87-3373-434f-a1e9-2ae905c0dd6e",
   "metadata": {},
   "outputs": [
    {
     "data": {
      "text/plain": [
       "tuple"
      ]
     },
     "execution_count": 28,
     "metadata": {},
     "output_type": "execute_result"
    }
   ],
   "source": [
    "n = (4,5,6,7,8,\"sudh\",45.67,4+8j)\n",
    "type(n)"
   ]
  },
  {
   "cell_type": "code",
   "execution_count": 70,
   "id": "738f805c-f467-45a7-b0db-33449ea6920b",
   "metadata": {},
   "outputs": [],
   "source": [
    "t = (3,4,5,6,76,77,\"sudh\",\"euron\")"
   ]
  },
  {
   "cell_type": "code",
   "execution_count": 72,
   "id": "e8171d78-afff-49ce-84fc-f0dc145790c2",
   "metadata": {},
   "outputs": [
    {
     "data": {
      "text/plain": [
       "(76, 77, 'sudh')"
      ]
     },
     "execution_count": 72,
     "metadata": {},
     "output_type": "execute_result"
    }
   ],
   "source": [
    "t[-1]\n",
    "t[4:7]"
   ]
  },
  {
   "cell_type": "code",
   "execution_count": 73,
   "id": "138ed21c-c89d-4825-b383-4d60b729fb4a",
   "metadata": {},
   "outputs": [],
   "source": [
    "t = ([4,5,6,7],\"sudh\",True,5+8j)"
   ]
  },
  {
   "cell_type": "code",
   "execution_count": 74,
   "id": "b1e19c32-e0ea-4b39-9575-d81c70b2b769",
   "metadata": {},
   "outputs": [],
   "source": [
    "l2 = [(3,4,5,6),\"sudh\",\"python\"]"
   ]
  },
  {
   "cell_type": "code",
   "execution_count": 75,
   "id": "d9f8e553-6ddf-44bd-84dd-96188262e62b",
   "metadata": {},
   "outputs": [],
   "source": [
    "t1 = (4,5,6,7,8)\n",
    "l2 = [4,5,6,7,8]"
   ]
  },
  {
   "cell_type": "code",
   "execution_count": 77,
   "id": "1addff0b-22c7-4763-8b79-03491a7769ac",
   "metadata": {},
   "outputs": [],
   "source": [
    "l2[0] = \"sudg\""
   ]
  },
  {
   "cell_type": "code",
   "execution_count": 78,
   "id": "ce017dac-94e0-4ab1-83ac-1f8d4bfee7d4",
   "metadata": {},
   "outputs": [
    {
     "data": {
      "text/plain": [
       "['sudg', 5, 6, 7, 8]"
      ]
     },
     "execution_count": 78,
     "metadata": {},
     "output_type": "execute_result"
    }
   ],
   "source": [
    "l2"
   ]
  },
  {
   "cell_type": "code",
   "execution_count": 79,
   "id": "740af704-dfa8-4c0c-8d18-8b73df42d927",
   "metadata": {},
   "outputs": [
    {
     "data": {
      "text/plain": [
       "([4, 5, 6, 7], 'sudh', True, (5+8j))"
      ]
     },
     "execution_count": 79,
     "metadata": {},
     "output_type": "execute_result"
    }
   ],
   "source": [
    "t"
   ]
  },
  {
   "cell_type": "code",
   "execution_count": 2,
   "id": "b35ef972-eb56-4647-b549-eb809156c685",
   "metadata": {},
   "outputs": [
    {
     "data": {
      "text/plain": [
       "dict"
      ]
     },
     "execution_count": 2,
     "metadata": {},
     "output_type": "execute_result"
    }
   ],
   "source": [
    "s = {}\n",
    "\n",
    "type(s)"
   ]
  },
  {
   "cell_type": "code",
   "execution_count": 4,
   "id": "e6be19a1-78e7-4aa0-bbd1-50135232fe4e",
   "metadata": {},
   "outputs": [
    {
     "data": {
      "text/plain": [
       "set"
      ]
     },
     "execution_count": 4,
     "metadata": {},
     "output_type": "execute_result"
    }
   ],
   "source": [
    "s1 = {4,5,6,7,8,9}\n",
    "type(s1)"
   ]
  },
  {
   "cell_type": "code",
   "execution_count": 7,
   "id": "7582d63c-838d-4382-ab1a-911be3cb8691",
   "metadata": {},
   "outputs": [],
   "source": [
    "s2 = {4,5,6,7,67,4+8j,True, \"Sudh\"}"
   ]
  },
  {
   "cell_type": "code",
   "execution_count": 10,
   "id": "d1ee93ba-c982-41e5-ab52-1f434c6e2849",
   "metadata": {},
   "outputs": [
    {
     "name": "stdout",
     "output_type": "stream",
     "text": [
      "{4, 5, 6, 55}\n"
     ]
    }
   ],
   "source": [
    "s3 = {4,5,6,6,5,4,5,5,5,55,55,55}\n",
    "print(s3)"
   ]
  },
  {
   "cell_type": "code",
   "execution_count": 11,
   "id": "8f03edbe-c9a6-45e6-ab4d-98f738aec44b",
   "metadata": {},
   "outputs": [
    {
     "ename": "TypeError",
     "evalue": "'set' object is not subscriptable",
     "output_type": "error",
     "traceback": [
      "\u001b[31m---------------------------------------------------------------------------\u001b[39m",
      "\u001b[31mTypeError\u001b[39m                                 Traceback (most recent call last)",
      "\u001b[36mCell\u001b[39m\u001b[36m \u001b[39m\u001b[32mIn[11]\u001b[39m\u001b[32m, line 1\u001b[39m\n\u001b[32m----> \u001b[39m\u001b[32m1\u001b[39m \u001b[43ms3\u001b[49m\u001b[43m[\u001b[49m\u001b[32;43m0\u001b[39;49m\u001b[43m]\u001b[49m\n",
      "\u001b[31mTypeError\u001b[39m: 'set' object is not subscriptable"
     ]
    }
   ],
   "source": [
    "s3[0]"
   ]
  },
  {
   "cell_type": "code",
   "execution_count": 12,
   "id": "702d10b7-e9cd-466e-8eb2-31a4d541ef48",
   "metadata": {},
   "outputs": [],
   "source": [
    "l3 = list(s3)"
   ]
  },
  {
   "cell_type": "code",
   "execution_count": 13,
   "id": "98dbcfa8-5678-4afc-b476-99ed788c31c8",
   "metadata": {},
   "outputs": [
    {
     "data": {
      "text/plain": [
       "[4, 5, 6, 55]"
      ]
     },
     "execution_count": 13,
     "metadata": {},
     "output_type": "execute_result"
    }
   ],
   "source": [
    "l3"
   ]
  },
  {
   "cell_type": "code",
   "execution_count": 14,
   "id": "7b67087d-c4bd-4ed8-8a53-2195e3d3e38f",
   "metadata": {},
   "outputs": [
    {
     "data": {
      "text/plain": [
       "4"
      ]
     },
     "execution_count": 14,
     "metadata": {},
     "output_type": "execute_result"
    }
   ],
   "source": [
    "l3[0]"
   ]
  },
  {
   "cell_type": "code",
   "execution_count": 15,
   "id": "e7a7d719-6239-4903-b406-54eb4cf30c22",
   "metadata": {},
   "outputs": [],
   "source": [
    "l4 = [4,5,6,7,8,9,99,99,99,8,8,8,6,6,5]"
   ]
  },
  {
   "cell_type": "code",
   "execution_count": 16,
   "id": "298b6e22-9a9f-4947-b91c-566adcf2d725",
   "metadata": {},
   "outputs": [],
   "source": [
    "s4 = set(l4)"
   ]
  },
  {
   "cell_type": "code",
   "execution_count": 17,
   "id": "4c3f9412-8d60-46bf-afb0-7bc2fc7de86d",
   "metadata": {},
   "outputs": [
    {
     "data": {
      "text/plain": [
       "{4, 5, 6, 7, 8, 9, 99}"
      ]
     },
     "execution_count": 17,
     "metadata": {},
     "output_type": "execute_result"
    }
   ],
   "source": [
    "s4"
   ]
  },
  {
   "cell_type": "code",
   "execution_count": 18,
   "id": "b5a18ad3-d0a5-434b-a396-257f78909344",
   "metadata": {},
   "outputs": [
    {
     "data": {
      "text/plain": [
       "(99, 4, 5, 6, 7, 8, 9)"
      ]
     },
     "execution_count": 18,
     "metadata": {},
     "output_type": "execute_result"
    }
   ],
   "source": [
    "tuple(s4)"
   ]
  },
  {
   "cell_type": "code",
   "execution_count": 19,
   "id": "2b450397-b338-4937-908c-ff4aefd12853",
   "metadata": {},
   "outputs": [],
   "source": [
    "s5 = {\"sudh\",\"Sudh\"}"
   ]
  },
  {
   "cell_type": "code",
   "execution_count": 20,
   "id": "9e043f24-7112-41ea-8d6f-fe63a9dbcc56",
   "metadata": {},
   "outputs": [],
   "source": [
    "s6 = {4,5,6,7,7,7,3,2,1,3,2,1,\"sudh\",\"euron\",True}"
   ]
  },
  {
   "cell_type": "code",
   "execution_count": 21,
   "id": "8a3e1318-31e5-4fe2-a480-58b4a4a0d3d1",
   "metadata": {},
   "outputs": [
    {
     "name": "stdout",
     "output_type": "stream",
     "text": [
      "{1, 2, 3, 4, 5, 6, 7, 'euron', 'sudh'}\n"
     ]
    }
   ],
   "source": [
    "print(s6)"
   ]
  },
  {
   "cell_type": "code",
   "execution_count": 22,
   "id": "05173455-574f-4e63-a0c1-76cd805de983",
   "metadata": {},
   "outputs": [
    {
     "data": {
      "text/plain": [
       "{'name': 'sudh', 'class': 'python 8 am class'}"
      ]
     },
     "execution_count": 22,
     "metadata": {},
     "output_type": "execute_result"
    }
   ],
   "source": [
    "d = {\"name\" :\"sudh\",\"class\":\"python 8 am class\"}\n",
    "d"
   ]
  },
  {
   "cell_type": "code",
   "execution_count": 25,
   "id": "530d84cc-a1d4-42b6-a3c6-564a30b5de6b",
   "metadata": {},
   "outputs": [
    {
     "data": {
      "text/plain": [
       "'sudh'"
      ]
     },
     "execution_count": 25,
     "metadata": {},
     "output_type": "execute_result"
    }
   ],
   "source": [
    "d[\"name\"]"
   ]
  },
  {
   "cell_type": "code",
   "execution_count": 26,
   "id": "912d09fb-ca8c-4547-a6cd-57f55d8111da",
   "metadata": {},
   "outputs": [
    {
     "data": {
      "text/plain": [
       "'python 8 am class'"
      ]
     },
     "execution_count": 26,
     "metadata": {},
     "output_type": "execute_result"
    }
   ],
   "source": [
    "d[\"class\"]"
   ]
  },
  {
   "cell_type": "code",
   "execution_count": 33,
   "id": "046b6851-d9b7-48ff-9bad-e708e6fbc277",
   "metadata": {},
   "outputs": [],
   "source": [
    "d1 = {0:[0,1,2,3,4],\"xyz\" : (3,4,5,6,7),True:{4,5,6,7,8,5},\"company name\" : \"Euron\",\n",
    "      \"class\": [\"pyton hindi and english\" ,\"genAi\",\"MLOPS\"],\"xyz\" :\"sudhanshu\"}"
   ]
  },
  {
   "cell_type": "code",
   "execution_count": 34,
   "id": "838368e4-01ab-46a6-acfa-157fe28ef703",
   "metadata": {},
   "outputs": [
    {
     "data": {
      "text/plain": [
       "{0: [0, 1, 2, 3, 4],\n",
       " 'xyz': 'sudhanshu',\n",
       " True: {4, 5, 6, 7, 8},\n",
       " 'company name': 'Euron',\n",
       " 'class': ['pyton hindi and english', 'genAi', 'MLOPS']}"
      ]
     },
     "execution_count": 34,
     "metadata": {},
     "output_type": "execute_result"
    }
   ],
   "source": [
    "d1"
   ]
  },
  {
   "cell_type": "code",
   "execution_count": 30,
   "id": "999ae56b-a967-43b7-890a-03ed98b3a6d4",
   "metadata": {},
   "outputs": [
    {
     "data": {
      "text/plain": [
       "(3, 4, 5, 6, 7)"
      ]
     },
     "execution_count": 30,
     "metadata": {},
     "output_type": "execute_result"
    }
   ],
   "source": [
    "d1[\"xyz\"]"
   ]
  },
  {
   "cell_type": "code",
   "execution_count": 31,
   "id": "debe1e1e-f251-4541-be86-090565ee19c2",
   "metadata": {},
   "outputs": [
    {
     "data": {
      "text/plain": [
       "{4, 5, 6, 7, 8}"
      ]
     },
     "execution_count": 31,
     "metadata": {},
     "output_type": "execute_result"
    }
   ],
   "source": [
    "d1[True]"
   ]
  },
  {
   "cell_type": "code",
   "execution_count": 35,
   "id": "5104206a-f86d-459f-8897-e5158c95b5af",
   "metadata": {},
   "outputs": [
    {
     "data": {
      "text/plain": [
       "{0: [0, 1, 2, 3, 4],\n",
       " 'xyz': 'sudhanshu',\n",
       " True: {4, 5, 6, 7, 8},\n",
       " 'company name': 'Euron',\n",
       " 'class': ['pyton hindi and english', 'genAi', 'MLOPS']}"
      ]
     },
     "execution_count": 35,
     "metadata": {},
     "output_type": "execute_result"
    }
   ],
   "source": [
    "d1"
   ]
  },
  {
   "cell_type": "code",
   "execution_count": 36,
   "id": "c9f9b436-2f25-4ad3-8c6c-c7fb89f2c29e",
   "metadata": {},
   "outputs": [],
   "source": [
    "d1[\"xyz\"] = \"arrendra\""
   ]
  },
  {
   "cell_type": "code",
   "execution_count": 37,
   "id": "b18661f6-9ceb-4558-9804-30a98e21f51f",
   "metadata": {},
   "outputs": [
    {
     "data": {
      "text/plain": [
       "{0: [0, 1, 2, 3, 4],\n",
       " 'xyz': 'arrendra',\n",
       " True: {4, 5, 6, 7, 8},\n",
       " 'company name': 'Euron',\n",
       " 'class': ['pyton hindi and english', 'genAi', 'MLOPS']}"
      ]
     },
     "execution_count": 37,
     "metadata": {},
     "output_type": "execute_result"
    }
   ],
   "source": [
    "d1"
   ]
  },
  {
   "cell_type": "code",
   "execution_count": 38,
   "id": "13b57361-74ae-4367-bf4c-2eb4839a6d8e",
   "metadata": {},
   "outputs": [],
   "source": [
    "s = \"euron\""
   ]
  },
  {
   "cell_type": "code",
   "execution_count": 39,
   "id": "dd2050d3-4979-467c-9d05-c216901585aa",
   "metadata": {},
   "outputs": [
    {
     "data": {
      "text/plain": [
       "'Euron'"
      ]
     },
     "execution_count": 39,
     "metadata": {},
     "output_type": "execute_result"
    }
   ],
   "source": [
    "s.capitalize()"
   ]
  },
  {
   "cell_type": "code",
   "execution_count": 41,
   "id": "fc23e37e-8574-43d9-b453-e3ada4ecd471",
   "metadata": {},
   "outputs": [
    {
     "data": {
      "text/plain": [
       "'$$$$$$$$$$$$$$$$$$$$$$euron$$$$$$$$$$$$$$$$$$$$$$$'"
      ]
     },
     "execution_count": 41,
     "metadata": {},
     "output_type": "execute_result"
    }
   ],
   "source": [
    "s.center(50,\"$\")"
   ]
  },
  {
   "cell_type": "code",
   "execution_count": 44,
   "id": "79ed38ab-a7e2-4a08-9463-3e42a01a33f9",
   "metadata": {},
   "outputs": [
    {
     "data": {
      "text/plain": [
       "0"
      ]
     },
     "execution_count": 44,
     "metadata": {},
     "output_type": "execute_result"
    }
   ],
   "source": [
    "s.count('su')"
   ]
  },
  {
   "cell_type": "code",
   "execution_count": 46,
   "id": "e9e6ca09-16ae-4c6b-ba1a-abfb3fb799a2",
   "metadata": {},
   "outputs": [
    {
     "data": {
      "text/plain": [
       "-1"
      ]
     },
     "execution_count": 46,
     "metadata": {},
     "output_type": "execute_result"
    }
   ],
   "source": [
    "s.find('z')"
   ]
  },
  {
   "cell_type": "code",
   "execution_count": 48,
   "id": "86893ade-5be7-427b-a55f-6a42887741d6",
   "metadata": {},
   "outputs": [
    {
     "ename": "ValueError",
     "evalue": "substring not found",
     "output_type": "error",
     "traceback": [
      "\u001b[31m---------------------------------------------------------------------------\u001b[39m",
      "\u001b[31mValueError\u001b[39m                                Traceback (most recent call last)",
      "\u001b[36mCell\u001b[39m\u001b[36m \u001b[39m\u001b[32mIn[48]\u001b[39m\u001b[32m, line 1\u001b[39m\n\u001b[32m----> \u001b[39m\u001b[32m1\u001b[39m \u001b[43ms\u001b[49m\u001b[43m.\u001b[49m\u001b[43mindex\u001b[49m\u001b[43m(\u001b[49m\u001b[33;43m'\u001b[39;49m\u001b[33;43mz\u001b[39;49m\u001b[33;43m'\u001b[39;49m\u001b[43m)\u001b[49m\n",
      "\u001b[31mValueError\u001b[39m: substring not found"
     ]
    }
   ],
   "source": [
    "s.index('z')"
   ]
  },
  {
   "cell_type": "code",
   "execution_count": 49,
   "id": "7ca10767-ccda-4953-b74d-66ee5a69b3ac",
   "metadata": {},
   "outputs": [],
   "source": [
    "s = \"Sudhanshu kumar Singh \""
   ]
  },
  {
   "cell_type": "code",
   "execution_count": 50,
   "id": "b697c597-6f2c-4f01-b7c7-ddc730994199",
   "metadata": {},
   "outputs": [
    {
     "data": {
      "text/plain": [
       "'Sudhanshu kumar singh '"
      ]
     },
     "execution_count": 50,
     "metadata": {},
     "output_type": "execute_result"
    }
   ],
   "source": [
    "s.capitalize()"
   ]
  },
  {
   "cell_type": "code",
   "execution_count": 51,
   "id": "2d72b79c-977a-4d53-9915-97a9b9d8dbaf",
   "metadata": {},
   "outputs": [
    {
     "data": {
      "text/plain": [
       "'Sudhanshu Kumar Singh '"
      ]
     },
     "execution_count": 51,
     "metadata": {},
     "output_type": "execute_result"
    }
   ],
   "source": [
    "s.title()"
   ]
  },
  {
   "cell_type": "code",
   "execution_count": 52,
   "id": "5a1dfea3-eb7f-49f0-a1b2-8d0f5b0910b2",
   "metadata": {},
   "outputs": [
    {
     "data": {
      "text/plain": [
       "False"
      ]
     },
     "execution_count": 52,
     "metadata": {},
     "output_type": "execute_result"
    }
   ],
   "source": [
    "s.isalnum()"
   ]
  },
  {
   "cell_type": "code",
   "execution_count": 53,
   "id": "f3d2e94c-23dc-4956-bf16-f7b8210ed1ea",
   "metadata": {},
   "outputs": [],
   "source": [
    "s1 = \"euron\""
   ]
  },
  {
   "cell_type": "code",
   "execution_count": 54,
   "id": "1a0fd2df-3564-4e07-8808-8605e1dada80",
   "metadata": {},
   "outputs": [
    {
     "data": {
      "text/plain": [
       "True"
      ]
     },
     "execution_count": 54,
     "metadata": {},
     "output_type": "execute_result"
    }
   ],
   "source": [
    "s1.isalnum()"
   ]
  },
  {
   "cell_type": "code",
   "execution_count": 55,
   "id": "96c75670-6c23-4829-be31-2d93747daab5",
   "metadata": {},
   "outputs": [
    {
     "data": {
      "text/plain": [
       "False"
      ]
     },
     "execution_count": 55,
     "metadata": {},
     "output_type": "execute_result"
    }
   ],
   "source": [
    "s.istitle()"
   ]
  },
  {
   "cell_type": "code",
   "execution_count": 56,
   "id": "98082ed5-e1cb-4e21-8452-03c4ffe940bc",
   "metadata": {},
   "outputs": [],
   "source": [
    "l = [3,4,5,6,6,\"python\",\"data science \"]"
   ]
  },
  {
   "cell_type": "code",
   "execution_count": 57,
   "id": "b8caddc5-1aac-4663-a3a7-062e43efcc9f",
   "metadata": {},
   "outputs": [],
   "source": [
    "l.append([4,5,6])"
   ]
  },
  {
   "cell_type": "code",
   "execution_count": 58,
   "id": "ffba6dfe-3975-4816-aaa7-fc938cdce0bb",
   "metadata": {},
   "outputs": [
    {
     "data": {
      "text/plain": [
       "[3, 4, 5, 6, 6, 'python', 'data science ', [4, 5, 6]]"
      ]
     },
     "execution_count": 58,
     "metadata": {},
     "output_type": "execute_result"
    }
   ],
   "source": [
    "l"
   ]
  },
  {
   "cell_type": "code",
   "execution_count": 59,
   "id": "04914893-1027-4579-8e12-6cb6cd6f7911",
   "metadata": {},
   "outputs": [],
   "source": [
    "l.append(\"sudh\")"
   ]
  },
  {
   "cell_type": "code",
   "execution_count": 60,
   "id": "27471a34-b954-40de-a111-922d668ba1a9",
   "metadata": {},
   "outputs": [
    {
     "data": {
      "text/plain": [
       "[3, 4, 5, 6, 6, 'python', 'data science ', [4, 5, 6], 'sudh']"
      ]
     },
     "execution_count": 60,
     "metadata": {},
     "output_type": "execute_result"
    }
   ],
   "source": [
    "l"
   ]
  },
  {
   "cell_type": "code",
   "execution_count": 61,
   "id": "b5ed07bd-1a1e-4a0b-a354-6d89d2a9e503",
   "metadata": {},
   "outputs": [],
   "source": [
    "l.clear()"
   ]
  },
  {
   "cell_type": "code",
   "execution_count": 62,
   "id": "99e361a2-5671-49b3-b061-c6ecc0661ff6",
   "metadata": {},
   "outputs": [
    {
     "data": {
      "text/plain": [
       "[]"
      ]
     },
     "execution_count": 62,
     "metadata": {},
     "output_type": "execute_result"
    }
   ],
   "source": [
    "l"
   ]
  },
  {
   "cell_type": "code",
   "execution_count": 63,
   "id": "dbb5ce6e-7c8c-430c-b610-8b0962b079bc",
   "metadata": {},
   "outputs": [],
   "source": [
    "l = [3,4,5,6,6,\"python\",\"data science \"]"
   ]
  },
  {
   "cell_type": "code",
   "execution_count": 64,
   "id": "750809b2-fe09-4091-beaa-823cff3687ef",
   "metadata": {},
   "outputs": [],
   "source": [
    "l1 = l"
   ]
  },
  {
   "cell_type": "code",
   "execution_count": 65,
   "id": "688b8d07-a90d-41a9-9819-17ca572aea2a",
   "metadata": {},
   "outputs": [
    {
     "data": {
      "text/plain": [
       "[3, 4, 5, 6, 6, 'python', 'data science ']"
      ]
     },
     "execution_count": 65,
     "metadata": {},
     "output_type": "execute_result"
    }
   ],
   "source": [
    "l1"
   ]
  },
  {
   "cell_type": "code",
   "execution_count": 66,
   "id": "ae68c3a2-cd5b-45f2-9d86-ae1719aef413",
   "metadata": {},
   "outputs": [
    {
     "data": {
      "text/plain": [
       "[3, 4, 5, 6, 6, 'python', 'data science ']"
      ]
     },
     "execution_count": 66,
     "metadata": {},
     "output_type": "execute_result"
    }
   ],
   "source": [
    "l"
   ]
  },
  {
   "cell_type": "code",
   "execution_count": 67,
   "id": "7dc395b5-e88b-4e35-a6e5-9158725a3a30",
   "metadata": {},
   "outputs": [],
   "source": [
    "l2 = l.copy()"
   ]
  },
  {
   "cell_type": "code",
   "execution_count": 68,
   "id": "6282b99a-3a58-4801-a7f6-cb9fb95a6610",
   "metadata": {},
   "outputs": [
    {
     "data": {
      "text/plain": [
       "[3, 4, 5, 6, 6, 'python', 'data science ']"
      ]
     },
     "execution_count": 68,
     "metadata": {},
     "output_type": "execute_result"
    }
   ],
   "source": [
    "l2"
   ]
  },
  {
   "cell_type": "code",
   "execution_count": 69,
   "id": "8fc766c2-54d9-4d46-aab8-b8c9e4118845",
   "metadata": {},
   "outputs": [],
   "source": [
    "l1[0] = \"euron\""
   ]
  },
  {
   "cell_type": "code",
   "execution_count": 70,
   "id": "bfc750a9-a360-4362-8992-30913fb5d4e5",
   "metadata": {},
   "outputs": [
    {
     "data": {
      "text/plain": [
       "['euron', 4, 5, 6, 6, 'python', 'data science ']"
      ]
     },
     "execution_count": 70,
     "metadata": {},
     "output_type": "execute_result"
    }
   ],
   "source": [
    "l1"
   ]
  },
  {
   "cell_type": "code",
   "execution_count": 71,
   "id": "9d224f97-cc1d-4762-9ddb-dd5fedea8771",
   "metadata": {},
   "outputs": [
    {
     "data": {
      "text/plain": [
       "['euron', 4, 5, 6, 6, 'python', 'data science ']"
      ]
     },
     "execution_count": 71,
     "metadata": {},
     "output_type": "execute_result"
    }
   ],
   "source": [
    "l"
   ]
  },
  {
   "cell_type": "code",
   "execution_count": 72,
   "id": "26f4d1e2-983a-4339-8bd0-61fa98109968",
   "metadata": {},
   "outputs": [
    {
     "data": {
      "text/plain": [
       "[3, 4, 5, 6, 6, 'python', 'data science ']"
      ]
     },
     "execution_count": 72,
     "metadata": {},
     "output_type": "execute_result"
    }
   ],
   "source": [
    "l2"
   ]
  },
  {
   "cell_type": "code",
   "execution_count": 73,
   "id": "f85e7e9c-bfc7-494e-9e37-fbab0ac53d53",
   "metadata": {},
   "outputs": [],
   "source": [
    "l2[2] = \"xyz\""
   ]
  },
  {
   "cell_type": "code",
   "execution_count": 74,
   "id": "50429652-ac68-4f19-af69-f11028a127d5",
   "metadata": {},
   "outputs": [
    {
     "data": {
      "text/plain": [
       "[3, 4, 'xyz', 6, 6, 'python', 'data science ']"
      ]
     },
     "execution_count": 74,
     "metadata": {},
     "output_type": "execute_result"
    }
   ],
   "source": [
    "l2"
   ]
  },
  {
   "cell_type": "code",
   "execution_count": 77,
   "id": "ece4c81d-ce26-4fd9-a92c-0b31e2ae3cda",
   "metadata": {},
   "outputs": [],
   "source": [
    "l.extend(\"sudh\")"
   ]
  },
  {
   "cell_type": "code",
   "execution_count": 78,
   "id": "a4cc49ba-43f3-47d7-bbc4-2dfa639f0c46",
   "metadata": {},
   "outputs": [
    {
     "data": {
      "text/plain": [
       "['euron', 4, 5, 6, 6, 'python', 'data science ', 's', 'u', 'd', 'h']"
      ]
     },
     "execution_count": 78,
     "metadata": {},
     "output_type": "execute_result"
    }
   ],
   "source": [
    "l"
   ]
  },
  {
   "cell_type": "code",
   "execution_count": 79,
   "id": "cc4f0b56-9230-4ff2-bcfd-af496dedfb8b",
   "metadata": {},
   "outputs": [
    {
     "data": {
      "text/plain": [
       "'h'"
      ]
     },
     "execution_count": 79,
     "metadata": {},
     "output_type": "execute_result"
    }
   ],
   "source": [
    "l.pop()"
   ]
  },
  {
   "cell_type": "code",
   "execution_count": 84,
   "id": "99ccbb91-7111-4877-80a6-c53c8c8d3146",
   "metadata": {},
   "outputs": [
    {
     "data": {
      "text/plain": [
       "'euron'"
      ]
     },
     "execution_count": 84,
     "metadata": {},
     "output_type": "execute_result"
    }
   ],
   "source": [
    "l.pop(0)"
   ]
  },
  {
   "cell_type": "code",
   "execution_count": 85,
   "id": "94056ea1-ee20-48d4-8e46-afd744103743",
   "metadata": {},
   "outputs": [
    {
     "data": {
      "text/plain": [
       "[4, 5, 6, 6, 'python', 'data science ']"
      ]
     },
     "execution_count": 85,
     "metadata": {},
     "output_type": "execute_result"
    }
   ],
   "source": [
    "l"
   ]
  },
  {
   "cell_type": "code",
   "execution_count": 87,
   "id": "6dd90853-0425-4ce1-83d0-1a8938a67b4b",
   "metadata": {},
   "outputs": [],
   "source": [
    "l.remove(\"python\")"
   ]
  },
  {
   "cell_type": "code",
   "execution_count": 88,
   "id": "6fbe02ce-d1e3-4367-8742-e331c1d9f2dc",
   "metadata": {},
   "outputs": [
    {
     "data": {
      "text/plain": [
       "[4, 5, 6, 6, 'data science ']"
      ]
     },
     "execution_count": 88,
     "metadata": {},
     "output_type": "execute_result"
    }
   ],
   "source": [
    "l"
   ]
  },
  {
   "cell_type": "code",
   "execution_count": 89,
   "id": "45428de4-2231-46ea-b683-8ad49efbcfa9",
   "metadata": {},
   "outputs": [],
   "source": [
    "l.insert(0,\"euron\")"
   ]
  },
  {
   "cell_type": "code",
   "execution_count": 90,
   "id": "703d11e8-d232-419e-9e53-797914ab0a24",
   "metadata": {},
   "outputs": [
    {
     "data": {
      "text/plain": [
       "['euron', 4, 5, 6, 6, 'data science ']"
      ]
     },
     "execution_count": 90,
     "metadata": {},
     "output_type": "execute_result"
    }
   ],
   "source": [
    "l"
   ]
  },
  {
   "cell_type": "code",
   "execution_count": 91,
   "id": "436756fe-d733-4ed9-a3f8-dadd8034e58e",
   "metadata": {},
   "outputs": [],
   "source": [
    "l.insert(0,[3,4,5,6])"
   ]
  },
  {
   "cell_type": "code",
   "execution_count": 92,
   "id": "bb54e229-3b6d-43bb-93c1-ce32aeea4b62",
   "metadata": {},
   "outputs": [
    {
     "data": {
      "text/plain": [
       "[[3, 4, 5, 6], 'euron', 4, 5, 6, 6, 'data science ']"
      ]
     },
     "execution_count": 92,
     "metadata": {},
     "output_type": "execute_result"
    }
   ],
   "source": [
    "l"
   ]
  },
  {
   "cell_type": "code",
   "execution_count": 93,
   "id": "b109c97a-6bf6-451f-8e6c-40226500a518",
   "metadata": {},
   "outputs": [],
   "source": [
    "l.reverse()"
   ]
  },
  {
   "cell_type": "code",
   "execution_count": 94,
   "id": "7036d415-ecc9-4b31-a31d-7951208155c3",
   "metadata": {},
   "outputs": [
    {
     "data": {
      "text/plain": [
       "['data science ', 6, 6, 5, 4, 'euron', [3, 4, 5, 6]]"
      ]
     },
     "execution_count": 94,
     "metadata": {},
     "output_type": "execute_result"
    }
   ],
   "source": [
    "l"
   ]
  },
  {
   "cell_type": "code",
   "execution_count": 95,
   "id": "774cfbb5-0529-4499-ac27-8a8150254ebb",
   "metadata": {},
   "outputs": [
    {
     "data": {
      "text/plain": [
       "[[3, 4, 5, 6], 'euron', 4, 5, 6, 6, 'data science ']"
      ]
     },
     "execution_count": 95,
     "metadata": {},
     "output_type": "execute_result"
    }
   ],
   "source": [
    "l[::-1]"
   ]
  },
  {
   "cell_type": "code",
   "execution_count": 98,
   "id": "807d8cf7-b3d7-4098-9ce6-c82cab8a580a",
   "metadata": {},
   "outputs": [],
   "source": [
    "l1 = [3,4,5,9,0,8,1,2]\n",
    "l1.sort()"
   ]
  },
  {
   "cell_type": "code",
   "execution_count": 99,
   "id": "97dd67c7-5599-4826-922a-f656a60ad5a8",
   "metadata": {},
   "outputs": [
    {
     "data": {
      "text/plain": [
       "[0, 1, 2, 3, 4, 5, 8, 9]"
      ]
     },
     "execution_count": 99,
     "metadata": {},
     "output_type": "execute_result"
    }
   ],
   "source": [
    "l1"
   ]
  },
  {
   "cell_type": "code",
   "execution_count": 100,
   "id": "156e76b3-9d5f-4eaf-b210-6f3b4b00d45b",
   "metadata": {},
   "outputs": [],
   "source": [
    "t = (4,5,6,7,8,9,0,1,2)"
   ]
  },
  {
   "cell_type": "code",
   "execution_count": 101,
   "id": "25810962-0cbd-4735-a9e0-8815ddd66b1c",
   "metadata": {},
   "outputs": [
    {
     "data": {
      "text/plain": [
       "1"
      ]
     },
     "execution_count": 101,
     "metadata": {},
     "output_type": "execute_result"
    }
   ],
   "source": [
    "t.count(9)"
   ]
  },
  {
   "cell_type": "code",
   "execution_count": 102,
   "id": "9bd1a4e9-5af8-4b49-a880-7f8af4176ef0",
   "metadata": {},
   "outputs": [
    {
     "data": {
      "text/plain": [
       "0"
      ]
     },
     "execution_count": 102,
     "metadata": {},
     "output_type": "execute_result"
    }
   ],
   "source": [
    "t.count(13)"
   ]
  },
  {
   "cell_type": "code",
   "execution_count": 103,
   "id": "d39073c8-f909-4fa5-995d-51ec585b9a45",
   "metadata": {},
   "outputs": [
    {
     "data": {
      "text/plain": [
       "{(4+8j), 4, 5, 6, 67, 7, 'Sudh', True}"
      ]
     },
     "execution_count": 103,
     "metadata": {},
     "output_type": "execute_result"
    }
   ],
   "source": [
    "s2"
   ]
  },
  {
   "cell_type": "code",
   "execution_count": 104,
   "id": "57fd3806-bf3d-447f-9821-26d1de3a6e71",
   "metadata": {},
   "outputs": [],
   "source": [
    "s2.add(345)"
   ]
  },
  {
   "cell_type": "code",
   "execution_count": 105,
   "id": "b3e368ef-fd27-4a6a-a456-696e7818b229",
   "metadata": {},
   "outputs": [
    {
     "data": {
      "text/plain": [
       "{(4+8j), 345, 4, 5, 6, 67, 7, 'Sudh', True}"
      ]
     },
     "execution_count": 105,
     "metadata": {},
     "output_type": "execute_result"
    }
   ],
   "source": [
    "s2"
   ]
  },
  {
   "cell_type": "code",
   "execution_count": 106,
   "id": "f53742d0-7582-4010-8ff5-b5896712d248",
   "metadata": {},
   "outputs": [],
   "source": [
    "s2.clear()"
   ]
  },
  {
   "cell_type": "code",
   "execution_count": 107,
   "id": "efc75e7b-a789-437f-9e70-6b84343b98d4",
   "metadata": {},
   "outputs": [
    {
     "data": {
      "text/plain": [
       "set()"
      ]
     },
     "execution_count": 107,
     "metadata": {},
     "output_type": "execute_result"
    }
   ],
   "source": [
    "s2"
   ]
  },
  {
   "cell_type": "code",
   "execution_count": 108,
   "id": "1ca41797-da18-49ef-9811-4aa98307d1a1",
   "metadata": {},
   "outputs": [
    {
     "data": {
      "text/plain": [
       "{0: [0, 1, 2, 3, 4],\n",
       " 'xyz': 'arrendra',\n",
       " True: {4, 5, 6, 7, 8},\n",
       " 'company name': 'Euron',\n",
       " 'class': ['pyton hindi and english', 'genAi', 'MLOPS']}"
      ]
     },
     "execution_count": 108,
     "metadata": {},
     "output_type": "execute_result"
    }
   ],
   "source": [
    "d1"
   ]
  },
  {
   "cell_type": "code",
   "execution_count": 109,
   "id": "19583377-96f8-4edc-90b6-fe49c10fd1ed",
   "metadata": {},
   "outputs": [
    {
     "data": {
      "text/plain": [
       "dict_keys([0, 'xyz', True, 'company name', 'class'])"
      ]
     },
     "execution_count": 109,
     "metadata": {},
     "output_type": "execute_result"
    }
   ],
   "source": [
    "d1.keys()"
   ]
  },
  {
   "cell_type": "code",
   "execution_count": 110,
   "id": "2deba552-1859-40eb-8b36-665db0d43e8f",
   "metadata": {},
   "outputs": [
    {
     "data": {
      "text/plain": [
       "[0, 'xyz', True, 'company name', 'class']"
      ]
     },
     "execution_count": 110,
     "metadata": {},
     "output_type": "execute_result"
    }
   ],
   "source": [
    "list(d1.keys())"
   ]
  },
  {
   "cell_type": "code",
   "execution_count": 111,
   "id": "e773f109-6c88-43d9-8908-aeee494d1ffa",
   "metadata": {},
   "outputs": [
    {
     "data": {
      "text/plain": [
       "dict_values([[0, 1, 2, 3, 4], 'arrendra', {4, 5, 6, 7, 8}, 'Euron', ['pyton hindi and english', 'genAi', 'MLOPS']])"
      ]
     },
     "execution_count": 111,
     "metadata": {},
     "output_type": "execute_result"
    }
   ],
   "source": [
    "d1.values()"
   ]
  },
  {
   "cell_type": "code",
   "execution_count": 112,
   "id": "0ac41296-60b9-4720-baaa-3a5201b83dd7",
   "metadata": {},
   "outputs": [
    {
     "data": {
      "text/plain": [
       "dict_items([(0, [0, 1, 2, 3, 4]), ('xyz', 'arrendra'), (True, {4, 5, 6, 7, 8}), ('company name', 'Euron'), ('class', ['pyton hindi and english', 'genAi', 'MLOPS'])])"
      ]
     },
     "execution_count": 112,
     "metadata": {},
     "output_type": "execute_result"
    }
   ],
   "source": [
    "d1.items()"
   ]
  },
  {
   "cell_type": "code",
   "execution_count": 114,
   "id": "ee3d77a3-0f9c-4307-8abd-d38ec51ab85c",
   "metadata": {},
   "outputs": [
    {
     "data": {
      "text/plain": [
       "['pyton hindi and english', 'genAi', 'MLOPS']"
      ]
     },
     "execution_count": 114,
     "metadata": {},
     "output_type": "execute_result"
    }
   ],
   "source": [
    "d1.pop('class')"
   ]
  },
  {
   "cell_type": "code",
   "execution_count": 115,
   "id": "e9d3a883-9eec-4358-b3a4-7cd911695ca6",
   "metadata": {},
   "outputs": [
    {
     "data": {
      "text/plain": [
       "{0: [0, 1, 2, 3, 4],\n",
       " 'xyz': 'arrendra',\n",
       " True: {4, 5, 6, 7, 8},\n",
       " 'company name': 'Euron'}"
      ]
     },
     "execution_count": 115,
     "metadata": {},
     "output_type": "execute_result"
    }
   ],
   "source": [
    "d1"
   ]
  },
  {
   "cell_type": "code",
   "execution_count": 117,
   "id": "d7ad2c65-edaf-4a37-a57a-1d5aa5a2a8bd",
   "metadata": {},
   "outputs": [
    {
     "data": {
      "text/plain": [
       "('company name', 'Euron')"
      ]
     },
     "execution_count": 117,
     "metadata": {},
     "output_type": "execute_result"
    }
   ],
   "source": [
    "d1.popitem()"
   ]
  },
  {
   "cell_type": "code",
   "execution_count": 118,
   "id": "64dd5fee-9a6c-4908-b967-2b620d9275a1",
   "metadata": {},
   "outputs": [],
   "source": [
    "d1.update({\"company\" :\"India\"})"
   ]
  },
  {
   "cell_type": "code",
   "execution_count": 119,
   "id": "15ce0586-8780-45d6-8b22-559833e200ff",
   "metadata": {},
   "outputs": [
    {
     "data": {
      "text/plain": [
       "{0: [0, 1, 2, 3, 4],\n",
       " 'xyz': 'arrendra',\n",
       " True: {4, 5, 6, 7, 8},\n",
       " 'company': 'India'}"
      ]
     },
     "execution_count": 119,
     "metadata": {},
     "output_type": "execute_result"
    }
   ],
   "source": [
    "d1"
   ]
  },
  {
   "cell_type": "code",
   "execution_count": 120,
   "id": "bc99f255-d95e-4b22-b5a2-83fc8be7b613",
   "metadata": {},
   "outputs": [],
   "source": [
    "d1 [\"bna\"] = \"gdfhfgjwrtgfsd\""
   ]
  },
  {
   "cell_type": "code",
   "execution_count": 121,
   "id": "ccc8c14e-c00d-490f-92e6-0517fb57f35e",
   "metadata": {},
   "outputs": [
    {
     "data": {
      "text/plain": [
       "{0: [0, 1, 2, 3, 4],\n",
       " 'xyz': 'arrendra',\n",
       " True: {4, 5, 6, 7, 8},\n",
       " 'company': 'India',\n",
       " 'bna': 'gdfhfgjwrtgfsd'}"
      ]
     },
     "execution_count": 121,
     "metadata": {},
     "output_type": "execute_result"
    }
   ],
   "source": [
    "d1"
   ]
  },
  {
   "cell_type": "code",
   "execution_count": null,
   "id": "6e417ec5-fe72-4cb0-a701-a14b0b8eedc0",
   "metadata": {},
   "outputs": [],
   "source": []
  }
 ],
 "metadata": {
  "kernelspec": {
   "display_name": "Python 3 (ipykernel)",
   "language": "python",
   "name": "python3"
  },
  "language_info": {
   "codemirror_mode": {
    "name": "ipython",
    "version": 3
   },
   "file_extension": ".py",
   "mimetype": "text/x-python",
   "name": "python",
   "nbconvert_exporter": "python",
   "pygments_lexer": "ipython3",
   "version": "3.13.5"
  }
 },
 "nbformat": 4,
 "nbformat_minor": 5
}
