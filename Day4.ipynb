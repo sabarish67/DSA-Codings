{
 "cells": [
  {
   "cell_type": "code",
   "execution_count": 1,
   "id": "82739be5-9717-4825-a0b0-4c0144a41820",
   "metadata": {},
   "outputs": [],
   "source": [
    "with open(\"test.txt\",'w') as f :\n",
    "    f.write(\"this is my python english batch \")"
   ]
  },
  {
   "cell_type": "code",
   "execution_count": 2,
   "id": "8ea603e3-5b3b-4280-83c0-153917fee39b",
   "metadata": {},
   "outputs": [],
   "source": [
    "with open(\"test.txt\",'w') as f :\n",
    "    f.write(\"my Name is Sudhanshu \")"
   ]
  },
  {
   "cell_type": "code",
   "execution_count": 13,
   "id": "f321e2df-3356-423b-af4a-23afedaa1257",
   "metadata": {},
   "outputs": [],
   "source": [
    "with open(\"test.txt\",'a') as f :\n",
    "    f.write(\"this is my python english batch \")"
   ]
  },
  {
   "cell_type": "code",
   "execution_count": 16,
   "id": "4ca6de83-9229-44a7-b7e2-9c06913a57cf",
   "metadata": {},
   "outputs": [
    {
     "name": "stdout",
     "output_type": "stream",
     "text": [
      "my Name is Sudhanshu this is my python english batch this is my python english batch this is my python english batch this is my python english batch this is my python english batch this is my python english batch this is my python english batch this is my python english batch this is my python english batch this is my python english batch this is my python english batch \n"
     ]
    }
   ],
   "source": [
    "with open(\"test.txt\",\"r\")as f:\n",
    "    print(f.read())"
   ]
  },
  {
   "cell_type": "code",
   "execution_count": 20,
   "id": "ff3d4e8b-c844-4ed8-8c82-110cae0921d3",
   "metadata": {},
   "outputs": [],
   "source": [
    "def read_file(filename):\n",
    "    with open(filename,'r')as f:\n",
    "        return (f.read())"
   ]
  },
  {
   "cell_type": "code",
   "execution_count": 23,
   "id": "15a8fcc4-3691-4ebf-8961-efe6251f8275",
   "metadata": {},
   "outputs": [
    {
     "data": {
      "text/plain": [
       "str"
      ]
     },
     "execution_count": 23,
     "metadata": {},
     "output_type": "execute_result"
    }
   ],
   "source": [
    "type(read_file(\"test.txt\"))"
   ]
  },
  {
   "cell_type": "code",
   "execution_count": 26,
   "id": "b363d915-f0a9-4d94-8c3e-cfc9666c306a",
   "metadata": {},
   "outputs": [],
   "source": [
    "with open(\"test.txt\",\"w\")as f:\n",
    "    f.write(\"this is my python english batch \\n,I am the mentor of this batch \\n, I am discussing  python file operations in this batch \")"
   ]
  },
  {
   "cell_type": "code",
   "execution_count": 32,
   "id": "db87f61f-e482-49bb-87a3-538714b7e73f",
   "metadata": {},
   "outputs": [
    {
     "name": "stdout",
     "output_type": "stream",
     "text": [
      "['this is my python english batch \\n', ',I am the mentor of this batch \\n', ', I am discussing  python file operations in this batch ']\n"
     ]
    }
   ],
   "source": [
    "with open(\"test.txt\",\"r\")as f:\n",
    "    print(f.readlines())\n",
    "    "
   ]
  },
  {
   "cell_type": "code",
   "execution_count": 34,
   "id": "1d0eb92a-74f0-41fb-9e08-42807c30f658",
   "metadata": {},
   "outputs": [
    {
     "name": "stdout",
     "output_type": "stream",
     "text": [
      "0\n"
     ]
    }
   ],
   "source": [
    "with open(\"test.txt\",\"r\")as f:\n",
    "    print(f.tell())\n",
    "    "
   ]
  },
  {
   "cell_type": "code",
   "execution_count": 36,
   "id": "d7af8ac1-9c09-4f6d-b196-b8e2bfc128db",
   "metadata": {},
   "outputs": [
    {
     "name": "stdout",
     "output_type": "stream",
     "text": [
      "is my python english batch \n",
      ",I am the mentor of this batch \n",
      ", I am discussing  python file operations in this batch \n"
     ]
    }
   ],
   "source": [
    "with open(\"test.txt\",\"r\")as f:\n",
    "    f.seek(5)\n",
    "    print(f.read())"
   ]
  },
  {
   "cell_type": "code",
   "execution_count": 40,
   "id": "5dc54ad8-4329-4e0d-bbb1-5b5fd1894c3b",
   "metadata": {},
   "outputs": [],
   "source": [
    "import zipfile \n",
    "with zipfile.ZipFile(\"22nd_dec_final_file.zip\",'w') as f:\n",
    "    f.write(\"Day2.ipynb\")"
   ]
  },
  {
   "cell_type": "code",
   "execution_count": 43,
   "id": "e47c696d-fa6b-4b94-8f01-bfdf6cc24f4a",
   "metadata": {},
   "outputs": [
    {
     "name": "stdin",
     "output_type": "stream",
     "text": [
      "enter a integer jbdccjskc\n"
     ]
    },
    {
     "ename": "ValueError",
     "evalue": "invalid literal for int() with base 10: 'jbdccjskc'",
     "output_type": "error",
     "traceback": [
      "\u001b[31m---------------------------------------------------------------------------\u001b[39m",
      "\u001b[31mValueError\u001b[39m                                Traceback (most recent call last)",
      "\u001b[36mCell\u001b[39m\u001b[36m \u001b[39m\u001b[32mIn[43]\u001b[39m\u001b[32m, line 1\u001b[39m\n\u001b[32m----> \u001b[39m\u001b[32m1\u001b[39m a = \u001b[38;5;28;43mint\u001b[39;49m\u001b[43m(\u001b[49m\u001b[38;5;28;43minput\u001b[39;49m\u001b[43m(\u001b[49m\u001b[33;43m\"\u001b[39;49m\u001b[33;43menter a integer\u001b[39;49m\u001b[33;43m\"\u001b[39;49m\u001b[43m)\u001b[49m\u001b[43m)\u001b[49m\n\u001b[32m      2\u001b[39m b = \u001b[38;5;28mint\u001b[39m(\u001b[38;5;28minput\u001b[39m(\u001b[33m\"\u001b[39m\u001b[33menter a integer\u001b[39m\u001b[33m\"\u001b[39m))\n\u001b[32m      3\u001b[39m c = a/b\n",
      "\u001b[31mValueError\u001b[39m: invalid literal for int() with base 10: 'jbdccjskc'"
     ]
    }
   ],
   "source": [
    "a = int(input(\"enter an integer\"))\n",
    "b = int(input(\"enter an integer\"))\n",
    "c = a/b\n",
    "print(c)\n",
    "print(\"my name is sudh i am a mentor with euron \")"
   ]
  },
  {
   "cell_type": "code",
   "execution_count": 57,
   "id": "fdf5273c-aa74-4452-b2c4-fd5acb4b1f16",
   "metadata": {},
   "outputs": [
    {
     "name": "stdin",
     "output_type": "stream",
     "text": [
      "enter an integer 56\n",
      "enter an integer 0\n"
     ]
    },
    {
     "name": "stdout",
     "output_type": "stream",
     "text": [
      "56 0\n",
      "division by zero\n"
     ]
    },
    {
     "name": "stdin",
     "output_type": "stream",
     "text": [
      " dnfs\n"
     ]
    },
    {
     "name": "stdout",
     "output_type": "stream",
     "text": [
      "this is my python english batch \n"
     ]
    }
   ],
   "source": [
    "try : \n",
    "    a = int(input(\"enter an integer\"))\n",
    "    b = int(input(\"enter an integer\"))\n",
    "    print(a,b)\n",
    "    c = a/b\n",
    "    print(c)\n",
    "    print(\"my name is sudh i am a mentor with euron \")\n",
    "except ZeroDivisionError as e:\n",
    "    print(e)\n",
    "except ValueError as e :\n",
    "    print(e)\n",
    "except Exception as e: \n",
    "    print(e)\n",
    "finally :\n",
    "    try :\n",
    "        d = int(input())\n",
    "    except : \n",
    "        pass\n",
    "try : \n",
    "    print(\"this is my python english batch \")\n",
    "except:\n",
    "    pass"
   ]
  },
  {
   "cell_type": "code",
   "execution_count": 61,
   "id": "5e339fda-b4ad-4c5e-a735-89355fd92bfa",
   "metadata": {},
   "outputs": [
    {
     "name": "stdout",
     "output_type": "stream",
     "text": [
      "In this task enter a numvber , check for even , if even then add 10 to it \n"
     ]
    },
    {
     "name": "stdin",
     "output_type": "stream",
     "text": [
      "enter a number 23\n"
     ]
    },
    {
     "name": "stdout",
     "output_type": "stream",
     "text": [
      "entered number is not even  23\n"
     ]
    }
   ],
   "source": [
    "try :\n",
    "    print(\"In this task enter a numvber , check for even , if even then add 10 to it \")\n",
    "    number = int(input(\"enter a number\"))\n",
    "    try : \n",
    "        if number % 2 == 0 :\n",
    "            print(\"number is even\")\n",
    "            try : \n",
    "                print(\"as number was even final output is \", number + 10 )\n",
    "            except Exception as e :\n",
    "                print(e)\n",
    "        else :\n",
    "            print(\"entered number is not even \",number )\n",
    "    except Exception as e :\n",
    "        print(e)\n",
    "except Exception as e :\n",
    "    print(e)\n",
    "    "
   ]
  },
  {
   "cell_type": "code",
   "execution_count": null,
   "id": "532d11bb-be4e-473b-8968-149a0fd91581",
   "metadata": {},
   "outputs": [],
   "source": []
  }
 ],
 "metadata": {
  "kernelspec": {
   "display_name": "Python 3 (ipykernel)",
   "language": "python",
   "name": "python3"
  },
  "language_info": {
   "codemirror_mode": {
    "name": "ipython",
    "version": 3
   },
   "file_extension": ".py",
   "mimetype": "text/x-python",
   "name": "python",
   "nbconvert_exporter": "python",
   "pygments_lexer": "ipython3",
   "version": "3.13.5"
  }
 },
 "nbformat": 4,
 "nbformat_minor": 5
}
