{
 "cells": [
  {
   "cell_type": "code",
   "execution_count": 42,
   "id": "387888a6-49a0-4818-a136-c062d3936390",
   "metadata": {},
   "outputs": [],
   "source": [
    "# class and Object \n",
    "class euron_course : \n",
    "    def __init__(self,course_name,course_mentor,course_price):\n",
    "        self.course_name = course_name\n",
    "        self.course_mentor = course_mentor\n",
    "        self.course_price = course_price\n",
    "\n",
    "    def display_course(self):\n",
    "        print(f\"course Name:{self.course_name},Course Mentor:{self.course_mentor},course Price :{self.course_price}\")\n",
    "    def update_price(self,new_price):\n",
    "        self.course_price = new_price\n",
    "        print(f\"course price updated too :{self.course_price}\")\n",
    "\n",
    "    def enroll_students(self,student_name):\n",
    "        print(f\"{student_name} has enrolled in {self.course_name}\")\n",
    "    def get_price(self):\n",
    "        return self.__course_price"
   ]
  },
  {
   "cell_type": "code",
   "execution_count": 43,
   "id": "0ffa5bb7-73c3-4101-8127-ad2e894605d3",
   "metadata": {},
   "outputs": [],
   "source": [
    "# class and Object + encapsulation \n",
    "class euron_course : \n",
    "    def __init__(self,course_name,course_mentor,course_price):\n",
    "        self.course_name = course_name\n",
    "        self.course_mentor = course_mentor\n",
    "        self.__course_price = course_price\n",
    "\n",
    "    def display_course(self):\n",
    "        print(f\"course Name:{self.course_name},Course Mentor:{self.course_mentor},course Price :{self.course_price}\")\n",
    "    def update_price(self,new_price):\n",
    "        self.course_price = new_price\n",
    "        print(f\"course price updated too :{self.course_price}\")\n",
    "\n",
    "    def enroll_students(self,student_name):\n",
    "        print(f\"{student_name} has enrolled in {self.course_name}\")\n",
    "    def get_price(self):\n",
    "        return self.__course_price"
   ]
  },
  {
   "cell_type": "code",
   "execution_count": 8,
   "id": "5d4e955b-3069-4f48-9bff-a22f5c97a747",
   "metadata": {},
   "outputs": [],
   "source": [
    "pro_course = euron_course(\"python\",\"sudhanshu\",2000)\n",
    "pro_course2 = euron_course(\"java\",\"sudhanshu\",2000)\n",
    "pro_course3 = (\"big data \",\"sudhanshu\",3455)"
   ]
  },
  {
   "cell_type": "code",
   "execution_count": 24,
   "id": "22779952-0348-4ba8-9e3c-ae5eefe44cb1",
   "metadata": {},
   "outputs": [
    {
     "data": {
      "text/plain": [
       "3455"
      ]
     },
     "execution_count": 24,
     "metadata": {},
     "output_type": "execute_result"
    }
   ],
   "source": [
    "pro_course3 = euron_course(\"big data \",\"sudhanshu\",3455)\n",
    "pro_course3.get_price()"
   ]
  },
  {
   "cell_type": "code",
   "execution_count": 44,
   "id": "d597ce6c-2dfe-4aa8-aed6-34b560b17481",
   "metadata": {},
   "outputs": [],
   "source": [
    "# Inheritance\n",
    "class euron:\n",
    "    def __init__(self,course_name,course_mentor,course_price):\n",
    "        self.course_name = course_name\n",
    "        self.course_mentor = course_mentor\n",
    "        self.course_price = course_price\n",
    "        \n",
    "    def display_course(self):\n",
    "        print(f\"course Name:{self.course_name},Course Mentor:{self.course_mentor},Price :{self.course_price}\")\n",
    "\n",
    "class euron_course(euron):\n",
    "    def __init__(self,course_name,course_mentor,course_price,course_duration):\n",
    "        super().__init__(course_name,course_mentor,course_price)\n",
    "        self.course_duration = course_duration\n"
   ]
  },
  {
   "cell_type": "code",
   "execution_count": 35,
   "id": "ca48d8ca-f520-40ca-8421-4a5ad0f1d21c",
   "metadata": {},
   "outputs": [
    {
     "name": "stdout",
     "output_type": "stream",
     "text": [
      "course Name:python,Course Mentor:sudhanshu,Price :2000\n"
     ]
    }
   ],
   "source": [
    "e1 = euron_course(\"python\",\"sudhanshu\",2000,4)\n",
    "e1.course_duration\n",
    "e1.display_course()"
   ]
  },
  {
   "cell_type": "code",
   "execution_count": 45,
   "id": "b230c58d-b090-4d2f-893d-4fda96e7f0f5",
   "metadata": {},
   "outputs": [],
   "source": [
    "# polymorphism \n",
    "class euronmentor :\n",
    "    def teach(self):\n",
    "        print(\"mentor teaching\")\n",
    "\n",
    "class python_mentor(euronmentor):\n",
    "    def teach(self):\n",
    "        print(\"mentor teaching python\")\n",
    "\n",
    "class java_mentor(euronmentor):\n",
    "    def teach(self):\n",
    "        print(\"mentor taking java class\")\n",
    "    "
   ]
  },
  {
   "cell_type": "code",
   "execution_count": 46,
   "id": "2912725c-d9c4-4d3a-b4b9-62b49a679312",
   "metadata": {},
   "outputs": [
    {
     "name": "stdout",
     "output_type": "stream",
     "text": [
      "mentor teaching python\n"
     ]
    }
   ],
   "source": [
    "mentor = python_mentor()\n",
    "mentor.teach()"
   ]
  },
  {
   "cell_type": "code",
   "execution_count": 72,
   "id": "8957d599-1662-4566-9485-cd0fed627455",
   "metadata": {},
   "outputs": [],
   "source": [
    "# magic method , Dunder method \n",
    "class euron :\n",
    "    def __init__(self,name, course, mentor,price) :\n",
    "        self.name = name \n",
    "        self.course = course\n",
    "        self.mentor = mentor\n",
    "        self.price = price\n",
    "    def __str__(self):\n",
    "        return \"I am sudhanshu kumar \"\n",
    "    def __len__(self) :\n",
    "        return len(self.name)\n",
    "    def __repr__(self) :\n",
    "        return f\"Euron({self.name},{self.course},{self.mentor},{self.price})\"\n",
    "        "
   ]
  },
  {
   "cell_type": "code",
   "execution_count": 75,
   "id": "65baa4ec-fcbe-4036-8aa8-b77b0a9a9c26",
   "metadata": {},
   "outputs": [
    {
     "data": {
      "text/plain": [
       "'sudhanshu'"
      ]
     },
     "execution_count": 75,
     "metadata": {},
     "output_type": "execute_result"
    }
   ],
   "source": [
    "eu_obj1= euron(\"sudhanshu\",\"python\",\"python english batch\",2000)\n",
    "eu_obj1.name"
   ]
  },
  {
   "cell_type": "code",
   "execution_count": 64,
   "id": "6a5cf8df-df9b-47c2-898b-a42eaab69d7b",
   "metadata": {},
   "outputs": [
    {
     "name": "stdout",
     "output_type": "stream",
     "text": [
      "I am sudhanshu kumar \n"
     ]
    }
   ],
   "source": [
    "print(eu_obj1)"
   ]
  },
  {
   "cell_type": "code",
   "execution_count": 71,
   "id": "036069ea-00f2-4faa-ae91-7d2cce5073b6",
   "metadata": {},
   "outputs": [
    {
     "name": "stdout",
     "output_type": "stream",
     "text": [
      "9\n"
     ]
    }
   ],
   "source": [
    "print(len(eu_obj1))"
   ]
  },
  {
   "cell_type": "code",
   "execution_count": 76,
   "id": "c07ac028-84fd-42ae-a692-64e17fb12f0d",
   "metadata": {},
   "outputs": [
    {
     "name": "stdout",
     "output_type": "stream",
     "text": [
      "Euron(sudhanshu,python,python english batch,2000)\n"
     ]
    }
   ],
   "source": [
    "print(repr(eu_obj1))"
   ]
  },
  {
   "cell_type": "code",
   "execution_count": 91,
   "id": "5a5bb2c1-4166-4018-b7f0-16003b3a7639",
   "metadata": {},
   "outputs": [],
   "source": [
    "class euron :\n",
    "    def __init__(self,name, course, mentor,price) :\n",
    "        self._name = name \n",
    "        self._course = course\n",
    "        self._mentor = mentor\n",
    "        self._price = price"
   ]
  },
  {
   "cell_type": "code",
   "execution_count": 92,
   "id": "706eadb1-0908-4586-a584-a236b3b1bec7",
   "metadata": {},
   "outputs": [],
   "source": [
    "eu_obj2 = euron(\"sudhanshu\",\"python\",\"sudhanshu kumar\",3455)"
   ]
  },
  {
   "cell_type": "code",
   "execution_count": 93,
   "id": "eb1936d8-f1ea-4e9a-9c44-421aa7b2aaf4",
   "metadata": {},
   "outputs": [],
   "source": [
    "eu_obj2_name = \"amradha\""
   ]
  },
  {
   "cell_type": "code",
   "execution_count": 94,
   "id": "f16a45d1-c113-487b-a28c-daf8f5d8aaf7",
   "metadata": {},
   "outputs": [
    {
     "data": {
      "text/plain": [
       "'sudhanshu'"
      ]
     },
     "execution_count": 94,
     "metadata": {},
     "output_type": "execute_result"
    }
   ],
   "source": [
    "eu_obj2._name"
   ]
  },
  {
   "cell_type": "code",
   "execution_count": null,
   "id": "e6614dfc-8d9e-4755-aa68-2b9a970261c9",
   "metadata": {},
   "outputs": [],
   "source": []
  }
 ],
 "metadata": {
  "kernelspec": {
   "display_name": "Python 3 (ipykernel)",
   "language": "python",
   "name": "python3"
  },
  "language_info": {
   "codemirror_mode": {
    "name": "ipython",
    "version": 3
   },
   "file_extension": ".py",
   "mimetype": "text/x-python",
   "name": "python",
   "nbconvert_exporter": "python",
   "pygments_lexer": "ipython3",
   "version": "3.13.5"
  }
 },
 "nbformat": 4,
 "nbformat_minor": 5
}
