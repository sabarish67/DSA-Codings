{
 "cells": [
  {
   "cell_type": "code",
   "execution_count": null,
   "id": "c669c8ca-427a-4b21-95f3-e16ed37e9a91",
   "metadata": {},
   "outputs": [],
   "source": [
    "n = int(input())\n",
    "while n>0:\n",
    "    ld = n%10 \n",
    "    print(ld)\n",
    "    n = n//10"
   ]
  },
  {
   "cell_type": "code",
   "execution_count": 7,
   "id": "c141f993-bd1c-4c8b-8033-bad9a0390c76",
   "metadata": {},
   "outputs": [
    {
     "name": "stdin",
     "output_type": "stream",
     "text": [
      " 123\n"
     ]
    },
    {
     "name": "stdout",
     "output_type": "stream",
     "text": [
      "sum of digits is  6\n"
     ]
    }
   ],
   "source": [
    "# SUM OF DIGIITS OF A NUMBER \n",
    "number = int(input())\n",
    "sumd = 0 \n",
    "\n",
    "while (number>0):\n",
    "    last_digit = number%10 \n",
    "    sumd += last_digit\n",
    "    number = number //10 \n",
    "print(\"sum of digits is \",sumd)"
   ]
  },
  {
   "cell_type": "code",
   "execution_count": 6,
   "id": "2b64791e-1458-4f9c-87a9-294b1d4aec6d",
   "metadata": {},
   "outputs": [
    {
     "name": "stdin",
     "output_type": "stream",
     "text": [
      " 123456\n"
     ]
    },
    {
     "name": "stdout",
     "output_type": "stream",
     "text": [
      "sum of digits is  9\n"
     ]
    }
   ],
   "source": [
    "# SUM OF ODD DIGIITS OF A NUMBER \n",
    "\n",
    "number = int(input())\n",
    "sumd = 0 \n",
    "\n",
    "while (number>0):\n",
    "    last_digit = number%10 \n",
    "    if last_digit%2 != 0:\n",
    "        sumd += last_digit\n",
    "    number = number //10 \n",
    "print(\"sum of digits is \",sumd)"
   ]
  },
  {
   "cell_type": "code",
   "execution_count": 8,
   "id": "6c9e54fd-07d3-466a-af5a-7ac6973a8775",
   "metadata": {},
   "outputs": [
    {
     "name": "stdin",
     "output_type": "stream",
     "text": [
      "Enter a number:  1234\n"
     ]
    },
    {
     "name": "stdout",
     "output_type": "stream",
     "text": [
      "The first digit is: 1\n"
     ]
    }
   ],
   "source": [
    "number = int(input(\"Enter a number: \"))\n",
    "\n",
    "# Make sure the number is positive\n",
    "number = abs(number)\n",
    "\n",
    "# Remove digits from the right until only one is left\n",
    "while number >= 10:\n",
    "    number = number // 10\n",
    "\n",
    "print(\"The first digit is:\", number)\n"
   ]
  },
  {
   "cell_type": "code",
   "execution_count": 9,
   "id": "5d0192e9-02a7-4e13-a44f-fb6a37f03d4b",
   "metadata": {},
   "outputs": [
    {
     "name": "stdin",
     "output_type": "stream",
     "text": [
      " 1234\n"
     ]
    },
    {
     "name": "stdout",
     "output_type": "stream",
     "text": [
      "number of digit count  4\n"
     ]
    }
   ],
   "source": [
    "n= int(input())\n",
    "\n",
    "if n == 0 :\n",
    "    digit_count = 1\n",
    "\n",
    "else :\n",
    "    digit_count = 0 \n",
    "    while n > 0 :\n",
    "        n = n //10 \n",
    "        digit_count += 1 \n",
    "print(\"number of digit count \",digit_count)"
   ]
  },
  {
   "cell_type": "code",
   "execution_count": 20,
   "id": "9cd59e32-6f26-4b75-a45d-85f6c97a0cfd",
   "metadata": {},
   "outputs": [
    {
     "name": "stdin",
     "output_type": "stream",
     "text": [
      "Enter base (a):  2\n",
      "Enter exponent (b):  10\n",
      "Enter the position (k):  1\n"
     ]
    },
    {
     "name": "stdout",
     "output_type": "stream",
     "text": [
      "Result of a^b is: 1024\n",
      "The 1th digit from the left is: 1\n"
     ]
    }
   ],
   "source": [
    "# Input base, exponent, and k\n",
    "a = int(input(\"Enter base (a): \"))\n",
    "b = int(input(\"Enter exponent (b): \"))\n",
    "k = int(input(\"Enter the position (k): \"))\n",
    "\n",
    "# Compute a^b\n",
    "powered = a ** b\n",
    "print(\"Result of a^b is:\", powered)\n",
    "\n",
    "# Convert to string to access digits easily\n",
    "powered_str = str(powered)\n",
    "\n",
    "# Check if k is within bounds\n",
    "if k <= 0 or k > len(powered_str):\n",
    "    print(\"Invalid digit position!\")\n",
    "else:\n",
    "    kth_digit = int(powered_str[k - 1])  # k-1 because string indices start at 0\n",
    "    print(f\"The {k}th digit from the left is: {kth_digit}\")\n"
   ]
  },
  {
   "cell_type": "code",
   "execution_count": 21,
   "id": "0f407f1f-dc45-41c3-89d0-16e432149e7c",
   "metadata": {},
   "outputs": [
    {
     "name": "stdin",
     "output_type": "stream",
     "text": [
      " 2\n",
      " 10\n",
      "enter the posistion : 3\n"
     ]
    },
    {
     "name": "stdout",
     "output_type": "stream",
     "text": [
      "result of a^b is  1024\n",
      " The 3th digit from left is : 2\n"
     ]
    }
   ],
   "source": [
    "a = int(input())\n",
    "b = int(input())\n",
    "k = int(input(\"enter the posistion :\"))\n",
    "\n",
    "powered = a**b\n",
    "print(\"result of a^b is \",powered)\n",
    "\n",
    "powered_str = str(powered)\n",
    "\n",
    "if k < 0 or k > len(powered_str):\n",
    "    print(\"invalid digit posistion\")\n",
    "else :\n",
    "    k_thdigit = int(powered_str[k-1])\n",
    "    print(f\" The {k}th digit from left is : {k_thdigit}\")\n",
    "    "
   ]
  },
  {
   "cell_type": "code",
   "execution_count": 24,
   "id": "46b11a93-3d26-4529-81e4-f4e29152f3ab",
   "metadata": {},
   "outputs": [
    {
     "name": "stdin",
     "output_type": "stream",
     "text": [
      " 123\n"
     ]
    },
    {
     "ename": "TypeError",
     "evalue": "'int' object is not subscriptable",
     "output_type": "error",
     "traceback": [
      "\u001b[31m---------------------------------------------------------------------------\u001b[39m",
      "\u001b[31mTypeError\u001b[39m                                 Traceback (most recent call last)",
      "\u001b[36mCell\u001b[39m\u001b[36m \u001b[39m\u001b[32mIn[24]\u001b[39m\u001b[32m, line 3\u001b[39m\n\u001b[32m      1\u001b[39m n = \u001b[38;5;28mint\u001b[39m(\u001b[38;5;28minput\u001b[39m())\n\u001b[32m----> \u001b[39m\u001b[32m3\u001b[39m \u001b[38;5;28;01mif\u001b[39;00m n == \u001b[38;5;28mstr\u001b[39m(\u001b[43mn\u001b[49m\u001b[43m[\u001b[49m\u001b[43m:\u001b[49m\u001b[43m:\u001b[49m\u001b[43m-\u001b[49m\u001b[32;43m1\u001b[39;49m\u001b[43m]\u001b[49m) :\n\u001b[32m      4\u001b[39m     \u001b[38;5;28mprint\u001b[39m(\u001b[33m\"\u001b[39m\u001b[33mpalindrome number \u001b[39m\u001b[33m\"\u001b[39m)\n",
      "\u001b[31mTypeError\u001b[39m: 'int' object is not subscriptable"
     ]
    }
   ],
   "source": []
  },
  {
   "cell_type": "code",
   "execution_count": null,
   "id": "086c4ebd-001c-483e-bdc0-26faeed6b09b",
   "metadata": {},
   "outputs": [],
   "source": []
  }
 ],
 "metadata": {
  "kernelspec": {
   "display_name": "Python 3 (ipykernel)",
   "language": "python",
   "name": "python3"
  },
  "language_info": {
   "codemirror_mode": {
    "name": "ipython",
    "version": 3
   },
   "file_extension": ".py",
   "mimetype": "text/x-python",
   "name": "python",
   "nbconvert_exporter": "python",
   "pygments_lexer": "ipython3",
   "version": "3.13.5"
  }
 },
 "nbformat": 4,
 "nbformat_minor": 5
}
