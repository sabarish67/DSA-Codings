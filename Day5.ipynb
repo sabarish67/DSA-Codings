{
 "cells": [
  {
   "cell_type": "code",
   "execution_count": 3,
   "id": "1da49174-aa65-4ddb-8388-0e9baea96aab",
   "metadata": {},
   "outputs": [
    {
     "name": "stdout",
     "output_type": "stream",
     "text": [
      "my name is SABAARISH , I ma from madurai \n"
     ]
    }
   ],
   "source": [
    "print(\"my name is SABAARISH , I ma from madurai \")"
   ]
  },
  {
   "cell_type": "code",
   "execution_count": 8,
   "id": "14a8631e-44d4-4643-a1dc-0449bccb3dd8",
   "metadata": {},
   "outputs": [
    {
     "name": "stdin",
     "output_type": "stream",
     "text": [
      " sab\n"
     ]
    },
    {
     "name": "stdout",
     "output_type": "stream",
     "text": [
      "my name is  sab\n"
     ]
    }
   ],
   "source": [
    "name = input()\n",
    "print(\"my name is \",name)"
   ]
  },
  {
   "cell_type": "code",
   "execution_count": 11,
   "id": "92b37ee4-d187-48f6-a38f-20d8ea2f763b",
   "metadata": {},
   "outputs": [
    {
     "name": "stdout",
     "output_type": "stream",
     "text": [
      "my favourite movie is Dasavatharam an dmy ffav_num is 10 and funfun_fact about myself is i am fat\n"
     ]
    }
   ],
   "source": [
    "movie = \"Dasavatharam\"\n",
    "fav_num = 10\n",
    "fun_fact = \"i am fat\" \n",
    "\n",
    "print(f\"my favourite movie is {movie} an dmy ffav_num is {fav_num} and funfun_fact about myself is {fun_fact}\")"
   ]
  },
  {
   "cell_type": "code",
   "execution_count": 13,
   "id": "9bd0c74d-c4a4-478e-9982-1a6aa7411320",
   "metadata": {},
   "outputs": [
    {
     "name": "stdout",
     "output_type": "stream",
     "text": [
      "& & & & & \n",
      "& & & & \n",
      "& & & \n",
      "& & \n",
      "& \n"
     ]
    }
   ],
   "source": [
    "for i in range(5,0,-1):\n",
    "    print(\"& \" * i)"
   ]
  },
  {
   "cell_type": "code",
   "execution_count": 16,
   "id": "7637cd30-b0d1-4256-bc55-03a165767b2b",
   "metadata": {},
   "outputs": [
    {
     "name": "stdout",
     "output_type": "stream",
     "text": [
      "sab <class 'str'>\n",
      "14 <class 'str'>\n",
      "85 <class 'str'>\n",
      "True <class 'str'>\n"
     ]
    }
   ],
   "source": [
    "name = \"sab\"\n",
    "age = 14\n",
    "weight = 85 \n",
    "like_python = True \n",
    "print(name , type(name))\n",
    "print(age , type(name))\n",
    "print(weight , type(name))\n",
    "print(like_python , type(name))"
   ]
  },
  {
   "cell_type": "code",
   "execution_count": 18,
   "id": "e059906d-7a66-4546-99a1-c897752bac62",
   "metadata": {},
   "outputs": [
    {
     "name": "stdout",
     "output_type": "stream",
     "text": [
      "23\n",
      "-3\n",
      "130\n",
      "0.7692307692307693\n",
      "0\n",
      "10\n",
      "10000000000000\n"
     ]
    }
   ],
   "source": [
    "a = 10 \n",
    "b = 13\n",
    "print(a+b)\n",
    "print(a-b)\n",
    "print(a*b)\n",
    "print(a/b)\n",
    "print(a//b)\n",
    "print(a%b)\n",
    "print(a**b)\n"
   ]
  },
  {
   "cell_type": "code",
   "execution_count": 20,
   "id": "f0056244-e611-4d59-a729-a3cbd4c033a4",
   "metadata": {},
   "outputs": [
    {
     "name": "stdout",
     "output_type": "stream",
     "text": [
      "London\n",
      "Paris\n"
     ]
    }
   ],
   "source": [
    "city = \"London\"\n",
    "print(city)\n",
    "city = \"Paris\"\n",
    "print(city)"
   ]
  },
  {
   "cell_type": "code",
   "execution_count": 22,
   "id": "1bbfeba7-7102-443c-8885-54ee20d22025",
   "metadata": {},
   "outputs": [
    {
     "name": "stdin",
     "output_type": "stream",
     "text": [
      "enter your name sb\n",
      "ener your favourite color dnksa\n"
     ]
    },
    {
     "name": "stdout",
     "output_type": "stream",
     "text": [
      "your name is sb and your favourite color is dnksa \n"
     ]
    }
   ],
   "source": [
    "name = input(\"enter your name\")\n",
    "color = input(\"ener your favourite color\")\n",
    "print(f\"your name is {name} and your favourite color is {color} \")"
   ]
  },
  {
   "cell_type": "code",
   "execution_count": 24,
   "id": "653f3bec-7af6-47fd-ad85-0791b527ab5a",
   "metadata": {},
   "outputs": [
    {
     "name": "stdin",
     "output_type": "stream",
     "text": [
      "enter 1st number 10\n",
      "enter 2t number 20\n"
     ]
    },
    {
     "name": "stdout",
     "output_type": "stream",
     "text": [
      "30\n",
      "-10\n",
      "200\n"
     ]
    }
   ],
   "source": [
    "num1 = int(input(\"enter 1st number\"))\n",
    "num2 = int(input(\"enter 2t number\"))\n",
    "print(num1+num2)\n",
    "print(num1-num2)\n",
    "print(num1*num2)\n"
   ]
  },
  {
   "cell_type": "code",
   "execution_count": 25,
   "id": "2f9f5532-2c51-4f24-841f-ad812925750d",
   "metadata": {},
   "outputs": [
    {
     "name": "stdin",
     "output_type": "stream",
     "text": [
      "enter your age 14\n"
     ]
    },
    {
     "name": "stdout",
     "output_type": "stream",
     "text": [
      "your age is 14\n"
     ]
    }
   ],
   "source": [
    "age = int(input(\"enter your age\"))\n",
    "print(f\"your age is {age}\")"
   ]
  },
  {
   "cell_type": "code",
   "execution_count": 27,
   "id": "220dab73-9a0f-445e-884a-6f278b08cc2f",
   "metadata": {},
   "outputs": [
    {
     "name": "stdin",
     "output_type": "stream",
     "text": [
      "enter your age 14\n"
     ]
    },
    {
     "name": "stdout",
     "output_type": "stream",
     "text": [
      "you are a adult\n"
     ]
    }
   ],
   "source": [
    "age = int(input(\"enter your age\"))\n",
    "if age < 13 :\n",
    "    print(\"you are a child\")\n",
    "else :\n",
    "    print(\"you are a adult\")"
   ]
  },
  {
   "cell_type": "code",
   "execution_count": 28,
   "id": "8dd3c165-2ab0-4b99-bc9b-4c5a535d32cc",
   "metadata": {},
   "outputs": [
    {
     "name": "stdin",
     "output_type": "stream",
     "text": [
      "enter your num 9\n"
     ]
    },
    {
     "name": "stdout",
     "output_type": "stream",
     "text": [
      "Odd\n"
     ]
    }
   ],
   "source": [
    "num = int(input(\"enter your num\"))\n",
    "if num%2 == 0 :\n",
    "    print(\"Even\")\n",
    "else:\n",
    "    print(\"Odd\")"
   ]
  },
  {
   "cell_type": "code",
   "execution_count": 35,
   "id": "c8a89980-1e4c-4144-b3f1-cee584fe1f8b",
   "metadata": {},
   "outputs": [
    {
     "name": "stdin",
     "output_type": "stream",
     "text": [
      "enter your mark 49\n"
     ]
    },
    {
     "name": "stdout",
     "output_type": "stream",
     "text": [
      "Fail\n"
     ]
    }
   ],
   "source": [
    "marks = int(input(\"enter your mark\"))\n",
    "if marks >= 90:\n",
    "    print(\"Excellent\")\n",
    "elif marks >= 75 and marks < 89:\n",
    "    print(\"Very Good\")\n",
    "elif marks >= 50 and marks <= 74:\n",
    "    print(\"Good\")\n",
    "else:\n",
    "    print(\"Fail\")"
   ]
  },
  {
   "cell_type": "code",
   "execution_count": 46,
   "id": "c885ddb8-0861-4c14-9082-6d96847ab9f1",
   "metadata": {},
   "outputs": [
    {
     "name": "stdout",
     "output_type": "stream",
     "text": [
      "1\n",
      "2\n",
      "4\n",
      "5\n",
      "7\n",
      "8\n",
      "10\n"
     ]
    }
   ],
   "source": [
    "i = 1\n",
    "while i <= 10 :\n",
    "    if i% 3 == 0 :\n",
    "        i+=1\n",
    "        continue\n",
    "    print(i)\n",
    "    i+=1"
   ]
  },
  {
   "cell_type": "code",
   "execution_count": 47,
   "id": "81c489ff-2637-4161-bc04-88c474b0445e",
   "metadata": {},
   "outputs": [
    {
     "data": {
      "text/plain": [
       "1"
      ]
     },
     "execution_count": 47,
     "metadata": {},
     "output_type": "execute_result"
    }
   ],
   "source": [
    "1%3"
   ]
  },
  {
   "cell_type": "code",
   "execution_count": 54,
   "id": "73a7be06-ebe1-43d1-801d-9c2ef9927132",
   "metadata": {},
   "outputs": [
    {
     "name": "stdin",
     "output_type": "stream",
     "text": [
      " 5\n"
     ]
    },
    {
     "name": "stdout",
     "output_type": "stream",
     "text": [
      "1\n",
      "2\n",
      "3\n",
      "4\n"
     ]
    }
   ],
   "source": [
    "n = int(input())\n",
    "i = 1\n",
    "while i< 5:\n",
    "    print(i)\n",
    "    i+=1"
   ]
  },
  {
   "cell_type": "code",
   "execution_count": 55,
   "id": "fcf40829-bd43-45d2-be5a-16fb5b8dd210",
   "metadata": {},
   "outputs": [
    {
     "name": "stdin",
     "output_type": "stream",
     "text": [
      " 5\n"
     ]
    },
    {
     "name": "stdout",
     "output_type": "stream",
     "text": [
      "sum from 1 to n is  15\n"
     ]
    }
   ],
   "source": [
    "n = int(input())\n",
    "total = 0 \n",
    "i = 1\n",
    "\n",
    "while i <= 5:\n",
    "    total+= i\n",
    "    i+=1\n",
    "print(\"sum from 1 to n is \",total)"
   ]
  },
  {
   "cell_type": "code",
   "execution_count": 57,
   "id": "d60fb410-6a5d-4a08-aa43-701ec6581a79",
   "metadata": {},
   "outputs": [
    {
     "name": "stdin",
     "output_type": "stream",
     "text": [
      " 10\n"
     ]
    },
    {
     "name": "stdout",
     "output_type": "stream",
     "text": [
      "10 * 1 = 10\n",
      "10 * 2 = 20\n",
      "10 * 3 = 30\n",
      "10 * 4 = 40\n",
      "10 * 5 = 50\n",
      "10 * 6 = 60\n",
      "10 * 7 = 70\n",
      "10 * 8 = 80\n",
      "10 * 9 = 90\n",
      "10 * 10 = 100\n"
     ]
    }
   ],
   "source": [
    "x = int(input())\n",
    "i = 1\n",
    "\n",
    "while i <= 10 :\n",
    "    print(x,\"*\",i,\"=\",x*i)\n",
    "    i+=1"
   ]
  },
  {
   "cell_type": "code",
   "execution_count": 59,
   "id": "55a9f9ac-2e6b-485e-99d4-57f49e146990",
   "metadata": {},
   "outputs": [
    {
     "name": "stdin",
     "output_type": "stream",
     "text": [
      " 234\n"
     ]
    },
    {
     "name": "stdout",
     "output_type": "stream",
     "text": [
      "number of digits  3\n"
     ]
    }
   ],
   "source": [
    "num = int(input())\n",
    "count = 0 \n",
    "while num > 0 :\n",
    "    count+=1 \n",
    "    num //= 10 \n",
    "print(\"number of digits \",count)"
   ]
  },
  {
   "cell_type": "code",
   "execution_count": 67,
   "id": "502e56c4-31ac-41d1-b72d-55d6e1d67fba",
   "metadata": {},
   "outputs": [
    {
     "name": "stdin",
     "output_type": "stream",
     "text": [
      "Enter a positive number:  -1\n",
      "Enter a positive number:  0\n",
      "Enter a positive number:  10\n"
     ]
    },
    {
     "name": "stdout",
     "output_type": "stream",
     "text": [
      "Square of 10 is 100\n"
     ]
    }
   ],
   "source": [
    "num = -1   # start with invalid\n",
    "while num <= 0:\n",
    "    num = int(input(\"Enter a positive number: \"))\n",
    "\n",
    "print(\"Square of\", num, \"is\", num ** 2)\n"
   ]
  },
  {
   "cell_type": "code",
   "execution_count": 65,
   "id": "ebb5eefe-02d2-4b7e-b396-a3f2573bb0ee",
   "metadata": {},
   "outputs": [
    {
     "data": {
      "text/plain": [
       "123"
      ]
     },
     "execution_count": 65,
     "metadata": {},
     "output_type": "execute_result"
    }
   ],
   "source": [
    "1234//10"
   ]
  },
  {
   "cell_type": "code",
   "execution_count": 74,
   "id": "ea44a4f8-17aa-4d9c-b613-55f525e46750",
   "metadata": {},
   "outputs": [
    {
     "name": "stdin",
     "output_type": "stream",
     "text": [
      "Enter a number:  123\n"
     ]
    },
    {
     "name": "stdout",
     "output_type": "stream",
     "text": [
      "Reversed number = 321\n"
     ]
    }
   ],
   "source": [
    "num = int(input(\"Enter a number: \"))\n",
    "rev = 0\n",
    "\n",
    "while num > 0 :\n",
    "    digit = num % 10          # get last digit\n",
    "    rev = rev * 10 + digit    # add digit to reverse\n",
    "    num //= 10                # remove last digit\n",
    "\n",
    "print(\"Reversed number =\", rev)\n"
   ]
  },
  {
   "cell_type": "code",
   "execution_count": 75,
   "id": "6de829c5-d2c8-44bd-ad03-52e093ce589e",
   "metadata": {},
   "outputs": [
    {
     "name": "stdin",
     "output_type": "stream",
     "text": [
      "Enter a number:  -123\n"
     ]
    },
    {
     "name": "stdout",
     "output_type": "stream",
     "text": [
      "Reversed number = -321\n"
     ]
    }
   ],
   "source": [
    "num = int(input(\"Enter a number: \"))\n",
    "is_negative = False\n",
    "\n",
    "if num < 0:               # check if number is negative\n",
    "    is_negative = True\n",
    "    num = -num            # make it positive for reversing\n",
    "\n",
    "rev = 0\n",
    "while num > 0:\n",
    "    digit = num % 10\n",
    "    rev = rev * 10 + digit\n",
    "    num //= 10\n",
    "\n",
    "if is_negative:\n",
    "    rev = -rev            # add back the negative sign\n",
    "\n",
    "print(\"Reversed number =\", rev)\n"
   ]
  },
  {
   "cell_type": "code",
   "execution_count": 16,
   "id": "19a720c8-2d69-45fc-908a-d8a3464f1178",
   "metadata": {},
   "outputs": [
    {
     "name": "stdout",
     "output_type": "stream",
     "text": [
      "p\n",
      "y\n",
      "t\n",
      "h\n",
      "o\n",
      "n\n"
     ]
    }
   ],
   "source": [
    "s = \"python\"\n",
    "for ch in s :\n",
    "    print(ch)"
   ]
  },
  {
   "cell_type": "code",
   "execution_count": 17,
   "id": "453eadcc-1f5d-44e0-a8a6-dca290c4b111",
   "metadata": {},
   "outputs": [
    {
     "name": "stdout",
     "output_type": "stream",
     "text": [
      "sum=  10\n"
     ]
    }
   ],
   "source": [
    "nums = [1,2,3,4]\n",
    "tot = 0 \n",
    "for x in nums :\n",
    "    tot += x \n",
    "print(\"sum= \",tot)"
   ]
  },
  {
   "cell_type": "code",
   "execution_count": 18,
   "id": "0f29dc82-42b2-4e0c-9c42-e1d2ea8147e7",
   "metadata": {},
   "outputs": [
    {
     "name": "stdout",
     "output_type": "stream",
     "text": [
      "1\n",
      "3\n",
      "5\n"
     ]
    }
   ],
   "source": [
    "for i in range(1,11) :\n",
    "    if i == 7 :\n",
    "        break\n",
    "    if i % 2 == 0 :\n",
    "        continue \n",
    "    print(i)"
   ]
  },
  {
   "cell_type": "code",
   "execution_count": 19,
   "id": "eaa589f9-6468-463e-8fde-afc25c72384f",
   "metadata": {},
   "outputs": [
    {
     "name": "stdout",
     "output_type": "stream",
     "text": [
      "False\n"
     ]
    }
   ],
   "source": [
    "s = \"hello world\"\n",
    "print(\"python\" in s )"
   ]
  },
  {
   "cell_type": "code",
   "execution_count": 22,
   "id": "c53e5c2a-5d0b-4069-b106-077acbf098ef",
   "metadata": {},
   "outputs": [
    {
     "name": "stdout",
     "output_type": "stream",
     "text": [
      "dlrow olleh\n"
     ]
    }
   ],
   "source": [
    "s = \"hello world\" \n",
    "print(s[::-1])"
   ]
  },
  {
   "cell_type": "code",
   "execution_count": 26,
   "id": "e0cdd5d6-0410-41b0-876f-c8068d4c9cbe",
   "metadata": {},
   "outputs": [
    {
     "name": "stdout",
     "output_type": "stream",
     "text": [
      "2\n",
      "True\n"
     ]
    }
   ],
   "source": [
    "s = \" hi iam learning python python \"\n",
    "print(s.count(\"python\"))\n",
    "print(\"python\" in s)"
   ]
  },
  {
   "cell_type": "code",
   "execution_count": 27,
   "id": "ec29bec0-0a15-4049-a7d6-c5419aaecd8c",
   "metadata": {},
   "outputs": [
    {
     "name": "stdin",
     "output_type": "stream",
     "text": [
      " sab\n"
     ]
    },
    {
     "name": "stdout",
     "output_type": "stream",
     "text": [
      "sab\n",
      "too short\n"
     ]
    }
   ],
   "source": [
    "s = input()\n",
    "print(s[0:3])\n",
    "if len(s) <= 3 :\n",
    "    print(\"too short\")"
   ]
  },
  {
   "cell_type": "code",
   "execution_count": 28,
   "id": "8ed9f9c0-3d93-467e-bae8-9b52a3129b3b",
   "metadata": {},
   "outputs": [
    {
     "data": {
      "text/plain": [
       "'hon'"
      ]
     },
     "execution_count": 28,
     "metadata": {},
     "output_type": "execute_result"
    }
   ],
   "source": [
    "s = \"python\"\n",
    "s[-3:]"
   ]
  },
  {
   "cell_type": "code",
   "execution_count": 1,
   "id": "77fc5be3-f730-49b2-8442-f4c25cac8619",
   "metadata": {},
   "outputs": [],
   "source": [
    "fruits = [\"apple\",\"banana\",\"cherry\"]\n",
    "numbers = [10,20,30,40]\n",
    "mixed = [\"python\",3.14,True, 42]"
   ]
  },
  {
   "cell_type": "code",
   "execution_count": 2,
   "id": "15e25e93-af3f-493b-b5fe-dbf53965aec1",
   "metadata": {},
   "outputs": [
    {
     "name": "stdout",
     "output_type": "stream",
     "text": [
      "['apple', 'mango', 'cherry']\n"
     ]
    }
   ],
   "source": [
    "fruits[1] = \"mango\"\n",
    "print(fruits)"
   ]
  },
  {
   "cell_type": "code",
   "execution_count": 3,
   "id": "33854472-6f7e-44a1-b6e1-fb62ed5b1ef5",
   "metadata": {},
   "outputs": [
    {
     "name": "stdout",
     "output_type": "stream",
     "text": [
      "[10, 20, 30, 40, 4]\n"
     ]
    }
   ],
   "source": [
    "numbers.append(4)\n",
    "print(numbers)"
   ]
  },
  {
   "cell_type": "code",
   "execution_count": 4,
   "id": "4da960a7-4e38-4f4c-bc30-61b56bd52a5d",
   "metadata": {},
   "outputs": [
    {
     "name": "stdout",
     "output_type": "stream",
     "text": [
      "[10, 90, 20, 30, 40, 4]\n"
     ]
    }
   ],
   "source": [
    "numbers.insert(1,90)\n",
    "print(numbers)"
   ]
  },
  {
   "cell_type": "code",
   "execution_count": 6,
   "id": "5f6de27e-2ba5-46e9-955e-0211f88d5d82",
   "metadata": {},
   "outputs": [],
   "source": [
    "numbers.remove(90)"
   ]
  },
  {
   "cell_type": "code",
   "execution_count": 7,
   "id": "47324c85-9568-4661-8f32-5b711ee3188d",
   "metadata": {},
   "outputs": [
    {
     "name": "stdout",
     "output_type": "stream",
     "text": [
      "5\n"
     ]
    }
   ],
   "source": [
    "print(len(numbers))"
   ]
  },
  {
   "cell_type": "code",
   "execution_count": 10,
   "id": "12e3a662-02f5-4d60-96c0-0507ff2352b6",
   "metadata": {},
   "outputs": [
    {
     "name": "stdout",
     "output_type": "stream",
     "text": [
      "None\n"
     ]
    }
   ],
   "source": [
    "print(numbers.sort())"
   ]
  },
  {
   "cell_type": "code",
   "execution_count": 14,
   "id": "5ec5d7a7-404b-44e4-aade-1ca6b14c47c5",
   "metadata": {},
   "outputs": [
    {
     "name": "stdout",
     "output_type": "stream",
     "text": [
      "[1, 2, 3, 24, 65, 89]\n"
     ]
    }
   ],
   "source": [
    "num = [89,65,1,2,3,24]\n",
    "num.sort()\n",
    "print(num)"
   ]
  },
  {
   "cell_type": "code",
   "execution_count": 16,
   "id": "a865b857-3302-4a83-94d9-fa2eef41b92d",
   "metadata": {},
   "outputs": [
    {
     "name": "stdout",
     "output_type": "stream",
     "text": [
      "5\n"
     ]
    }
   ],
   "source": [
    "movies = [\"m1\",\"m2\",\"m3\",\"m4\",\"m5\"]\n",
    "print(len(movies))"
   ]
  },
  {
   "cell_type": "code",
   "execution_count": 24,
   "id": "cc10c0b2-71cb-4fb3-9e12-d9b62d66566a",
   "metadata": {},
   "outputs": [
    {
     "name": "stdout",
     "output_type": "stream",
     "text": [
      "[2, 4, 6, 8]\n",
      "[1, 3, 5, 7, 9]\n",
      "45\n"
     ]
    }
   ],
   "source": [
    "num_even = []\n",
    "num_odd = []\n",
    "total2 = 0 \n",
    "for i in range(1,10):\n",
    "    total2 += i\n",
    "    if i%2 == 0 :\n",
    "        num_even.append(i)\n",
    "    else :\n",
    "        num_odd.append(i)\n",
    "print(num_even)\n",
    "print(num_odd)\n",
    "print(total2)"
   ]
  },
  {
   "cell_type": "code",
   "execution_count": 27,
   "id": "5ca7d72a-9d5f-4eb1-839e-b56c576e311a",
   "metadata": {},
   "outputs": [
    {
     "name": "stdin",
     "output_type": "stream",
     "text": [
      "enter number 1: 45\n",
      "enter number 2: 89\n",
      "enter number 3: 70\n",
      "enter number 4: 64\n",
      "enter number 5: 99\n"
     ]
    },
    {
     "name": "stdout",
     "output_type": "stream",
     "text": [
      "[45, 89, 70, 64, 99]\n",
      "99\n"
     ]
    }
   ],
   "source": [
    "numbers = []\n",
    "for i in range(5) :\n",
    "    num = int(input(f\"enter number {i+1}:\"))\n",
    "    numbers.append(num)\n",
    "\n",
    "print(numbers)\n",
    "print(max(numbers))\n"
   ]
  },
  {
   "cell_type": "code",
   "execution_count": 28,
   "id": "32cb2789-f67e-4585-8f81-33424a545171",
   "metadata": {},
   "outputs": [
    {
     "name": "stdout",
     "output_type": "stream",
     "text": [
      "noumber of words with length > 5 ate  3\n"
     ]
    }
   ],
   "source": [
    "words = [\"pdjkbcds\",\"caAT\",\"cdd\",\"casd\",\"jfncjds\",\"fcufhud\"]\n",
    "\n",
    "count = 0 \n",
    "for word in words :\n",
    "    if len(word) > 5:\n",
    "        count += 1\n",
    "print(\"noumber of words with length > 5 ate \",count)"
   ]
  },
  {
   "cell_type": "code",
   "execution_count": null,
   "id": "45524e90-b2bf-4387-988c-0053db2c2746",
   "metadata": {},
   "outputs": [
    {
     "name": "stdout",
     "output_type": "stream",
     "text": [
      "\n",
      "=== TO-DO ===\n",
      "1) Add task\n",
      "2) List tasks\n",
      "3) Mark task as done\n",
      "4) Delete task\n",
      "5) Clear all tasks\n",
      "6) Quit\n"
     ]
    },
    {
     "name": "stdin",
     "output_type": "stream",
     "text": [
      "Choose (1-6):  1\n"
     ]
    }
   ],
   "source": [
    "# todo_v1.py\n",
    "\n",
    "tasks = []              # each task will be a dict: {\"title\": str, \"done\": bool}\n",
    "\n",
    "def show_menu():\n",
    "    print(\"\\n=== TO-DO ===\")\n",
    "    print(\"1) Add task\")\n",
    "    print(\"2) List tasks\")\n",
    "    print(\"3) Mark task as done\")\n",
    "    print(\"4) Delete task\")\n",
    "    print(\"5) Clear all tasks\")\n",
    "    print(\"6) Quit\")\n",
    "\n",
    "def list_tasks():\n",
    "    if not tasks:\n",
    "        print(\"No tasks yet.\")\n",
    "        return\n",
    "    print(\"\\nYour tasks:\")\n",
    "    for idx, t in enumerate(tasks, start=1):\n",
    "        status = \"✅\" if t[\"done\"] else \"⬜\"\n",
    "        print(f\"{idx}. {status} {t['title']}\")\n",
    "\n",
    "def add_task():\n",
    "    title = input(\"Enter task: \").strip()\n",
    "    if title == \"\":\n",
    "        print(\"Task cannot be empty.\")\n",
    "        return\n",
    "    tasks.append({\"title\": title, \"done\": False})\n",
    "    print(\"Added.\")\n",
    "\n",
    "def mark_done():\n",
    "    if not tasks:\n",
    "        print(\"No tasks to mark.\")\n",
    "        return\n",
    "    list_tasks()\n",
    "    try:\n",
    "        n = int(input(\"Enter task number to mark done: \"))\n",
    "        if 1 <= n <= len(tasks):\n",
    "            tasks[n-1][\"done\"] = True\n",
    "            print(\"Marked as done.\")\n",
    "        else:\n",
    "            print(\"Invalid number.\")\n",
    "    except ValueError:\n",
    "        print(\"Please enter a valid number.\")\n",
    "\n",
    "def delete_task():\n",
    "    if not tasks:\n",
    "        print(\"No tasks to delete.\")\n",
    "        return\n",
    "    list_tasks()\n",
    "    try:\n",
    "        n = int(input(\"Enter task number to delete: \"))\n",
    "        if 1 <= n <= len(tasks):\n",
    "            removed = tasks.pop(n-1)\n",
    "            print(f\"Deleted: {removed['title']}\")\n",
    "        else:\n",
    "            print(\"Invalid number.\")\n",
    "    except ValueError:\n",
    "        print(\"Please enter a valid number.\")\n",
    "\n",
    "def clear_all():\n",
    "    if not tasks:\n",
    "        print(\"Already empty.\")\n",
    "        return\n",
    "    confirm = input(\"Type YES to clear all: \")\n",
    "    if confirm == \"YES\":\n",
    "        tasks.clear()\n",
    "        print(\"All tasks cleared.\")\n",
    "    else:\n",
    "        print(\"Canceled.\")\n",
    "\n",
    "# main loop\n",
    "while True:\n",
    "    show_menu()\n",
    "    choice = input(\"Choose (1-6): \").strip()\n",
    "    if choice == \"1\":\n",
    "        add_task()\n",
    "    elif choice == \"2\":\n",
    "        list_tasks()\n",
    "    elif choice == \"3\":\n",
    "        mark_done()\n",
    "    elif choice == \"4\":\n",
    "        delete_task()\n",
    "    elif choice == \"5\":\n",
    "        clear_all()\n",
    "    elif choice == \"6\":\n",
    "        print(\"Goodbye!\")\n",
    "        break\n",
    "    else:\n",
    "        print(\"Invalid choice. Try 1-6.\")\n"
   ]
  },
  {
   "cell_type": "code",
   "execution_count": 2,
   "id": "5e6361b5-81eb-4b4a-bea7-02cf0d2588c3",
   "metadata": {},
   "outputs": [
    {
     "name": "stdout",
     "output_type": "stream",
     "text": [
      "[2, 4, 6, 8, 10]\n"
     ]
    }
   ],
   "source": [
    "eve = []\n",
    "num = (1,2,3,4,5,6,7,8,9,10)\n",
    "for i in num :\n",
    "    if i % 2== 0 :\n",
    "        eve.append(i)\n",
    "print(eve)"
   ]
  },
  {
   "cell_type": "code",
   "execution_count": 1,
   "id": "b4edcb1c-fe71-4474-945c-07852cd0f230",
   "metadata": {},
   "outputs": [],
   "source": [
    "def greet() :\n",
    "    print(\"hello\")"
   ]
  },
  {
   "cell_type": "code",
   "execution_count": 2,
   "id": "3438ac53-9c79-45e1-bef7-f5c377e291d8",
   "metadata": {},
   "outputs": [
    {
     "name": "stdout",
     "output_type": "stream",
     "text": [
      "hello\n"
     ]
    }
   ],
   "source": [
    "greet()"
   ]
  },
  {
   "cell_type": "code",
   "execution_count": 5,
   "id": "31f8e6e0-0100-4d9b-b247-659e664ecc40",
   "metadata": {},
   "outputs": [
    {
     "name": "stdout",
     "output_type": "stream",
     "text": [
      "5\n",
      "<class 'int'>\n"
     ]
    }
   ],
   "source": [
    "def add(a,b):\n",
    "    return a+ b \n",
    "x = add(2,3)\n",
    "print(x)\n",
    "print(type(x))"
   ]
  },
  {
   "cell_type": "code",
   "execution_count": 7,
   "id": "960ce082-cecf-4012-a3fa-7a29f093c844",
   "metadata": {},
   "outputs": [
    {
     "name": "stdout",
     "output_type": "stream",
     "text": [
      "20\n",
      "40\n"
     ]
    }
   ],
   "source": [
    "def area_rect(w,h):\n",
    "    return w*h\n",
    "print(area_rect(4,5))\n",
    "print(area_rect(w = 10 , h = 4))"
   ]
  },
  {
   "cell_type": "code",
   "execution_count": 9,
   "id": "a9f72b1c-41b3-445b-b411-470892a601dc",
   "metadata": {},
   "outputs": [
    {
     "name": "stdout",
     "output_type": "stream",
     "text": [
      "25\n",
      "125\n"
     ]
    }
   ],
   "source": [
    "def power(base,exp = 2):\n",
    "    return base ** exp\n",
    "print(power(5))\n",
    "print(power(5,3))"
   ]
  },
  {
   "cell_type": "code",
   "execution_count": 12,
   "id": "f30fe04e-4162-4264-9175-011ee0892ff1",
   "metadata": {},
   "outputs": [
    {
     "name": "stdout",
     "output_type": "stream",
     "text": [
      "3 7\n"
     ]
    }
   ],
   "source": [
    "def minmax(nums):\n",
    "    return min(nums),max(nums)\n",
    "lo, hi = minmax([3,5,6,7])\n",
    "print(lo,hi)"
   ]
  },
  {
   "cell_type": "code",
   "execution_count": 13,
   "id": "3fcb770c-5346-4fd2-b59f-b9d0cae035d9",
   "metadata": {},
   "outputs": [
    {
     "name": "stdout",
     "output_type": "stream",
     "text": [
      "Help on function hypothenuse in module __main__:\n",
      "\n",
      "hypothenuse(a: float, b: float) -> float\n",
      "    return sqrt(a^2 + b^2).\n",
      "    a,b : triangle legs\n",
      "\n"
     ]
    }
   ],
   "source": [
    "def hypothenuse(a:float,b:float) -> float :\n",
    "    \"\"\"\n",
    "    return sqrt(a^2 + b^2).\n",
    "    a,b : triangle legs \n",
    "    \"\"\"\n",
    "    return(a*a,b*b)** 0.5\n",
    "help(hypothenuse)"
   ]
  },
  {
   "cell_type": "code",
   "execution_count": 14,
   "id": "93cda085-3a69-48b2-8721-d71d30dfa797",
   "metadata": {},
   "outputs": [
    {
     "name": "stdout",
     "output_type": "stream",
     "text": [
      "inside:  20\n",
      "outside: 10\n"
     ]
    }
   ],
   "source": [
    "x = 10 \n",
    "def foo() :\n",
    "    x = 20 \n",
    "    print(\"inside: \",x)\n",
    "\n",
    "foo()\n",
    "print(\"outside:\",x)"
   ]
  },
  {
   "cell_type": "code",
   "execution_count": 16,
   "id": "1ef0bca8-771b-4400-9a1b-a114a1c5d863",
   "metadata": {},
   "outputs": [],
   "source": [
    "count = 0 \n",
    "def bump() :\n",
    "    global count\n",
    "    count +=1\n",
    "bump()"
   ]
  },
  {
   "cell_type": "code",
   "execution_count": 18,
   "id": "07f42262-e818-4f6e-89a5-3b77eb89ecc0",
   "metadata": {},
   "outputs": [
    {
     "name": "stdout",
     "output_type": "stream",
     "text": [
      "titile : report\n",
      "nums : (10, 20, 30, 40, 50, 60, 70)\n",
      "meta : {'author': 'sab', 'version': 1}\n"
     ]
    }
   ],
   "source": [
    "def summarize(title,*nums,**meta):\n",
    "    print(\"titile :\",title)\n",
    "    print(\"nums :\",nums)\n",
    "    print(\"meta :\",meta)\n",
    "summarize(\"report\",10,20,30,40,50,60,70,author = \"sab\",version = 1)"
   ]
  },
  {
   "cell_type": "code",
   "execution_count": 19,
   "id": "84a3a6c7-df59-4e9f-9285-206066b51adc",
   "metadata": {},
   "outputs": [
    {
     "data": {
      "text/plain": [
       "True"
      ]
     },
     "execution_count": 19,
     "metadata": {},
     "output_type": "execute_result"
    }
   ],
   "source": [
    "def is_even(n):\n",
    "    return n%2 ==  0\n",
    "is_even(10)"
   ]
  },
  {
   "cell_type": "code",
   "execution_count": 23,
   "id": "b6bfa83e-332c-47cd-861b-7f1719f92aae",
   "metadata": {},
   "outputs": [
    {
     "name": "stdout",
     "output_type": "stream",
     "text": [
      "['apple', 'banana', 'cherry']\n"
     ]
    }
   ],
   "source": [
    "def unique_sorted(words):\n",
    "    return sorted(set(words))\n",
    "\n",
    "print(unique_sorted([\"apple\", \"banana\", \"apple\", \"cherry\"]))          "
   ]
  },
  {
   "cell_type": "code",
   "execution_count": 24,
   "id": "8d080cf6-01c2-4c96-9bd5-53acb8f7e313",
   "metadata": {},
   "outputs": [
    {
     "name": "stdout",
     "output_type": "stream",
     "text": [
      "[1, 2, 3, 23, 45, 67, 89, 90]\n"
     ]
    }
   ],
   "source": [
    "l = [23,45,67,89,90,1,2,3]\n",
    "print(sorted(l))"
   ]
  },
  {
   "cell_type": "code",
   "execution_count": 25,
   "id": "1f9998b1-5ff0-482d-b8a2-ad5843a9ebc5",
   "metadata": {},
   "outputs": [
    {
     "name": "stdout",
     "output_type": "stream",
     "text": [
      "['apple', 'bananna', 'cherry']\n"
     ]
    }
   ],
   "source": [
    "s = [\"apple\",\"cherry\",\"bananna\"]\n",
    "print(sorted(s))"
   ]
  },
  {
   "cell_type": "code",
   "execution_count": 28,
   "id": "99e3aec0-d278-4c9b-b767-26b53133157e",
   "metadata": {},
   "outputs": [
    {
     "name": "stdout",
     "output_type": "stream",
     "text": [
      "1\n",
      "2\n",
      "Fizz\n",
      "4\n",
      "Buzz\n",
      "Fizz\n",
      "7\n",
      "8\n",
      "Fizz\n",
      "Buzz\n",
      "11\n",
      "Fizz\n",
      "13\n",
      "14\n",
      "Fizzbuzz\n",
      "16\n",
      "17\n",
      "Fizz\n",
      "19\n",
      "Buzz\n"
     ]
    }
   ],
   "source": [
    "def fizzbuzz(n):\n",
    "    for i in range(1,n+1):\n",
    "        if i %3 == 0 and i %5 == 0 :\n",
    "            print(\"Fizzbuzz\")\n",
    "        elif i % 3 == 0:\n",
    "            print(\"Fizz\")\n",
    "        elif i % 5 == 0:\n",
    "            print(\"Buzz\")\n",
    "        else :\n",
    "            print(i)\n",
    "fizzbuzz(20)"
   ]
  },
  {
   "cell_type": "code",
   "execution_count": 29,
   "id": "88c93e85-e04b-4ab9-aa6f-8835145e0613",
   "metadata": {},
   "outputs": [
    {
     "data": {
      "text/plain": [
       "120"
      ]
     },
     "execution_count": 29,
     "metadata": {},
     "output_type": "execute_result"
    }
   ],
   "source": [
    "def factorial(n) :\n",
    "    result = 1\n",
    "    for i in range(1,n+1):\n",
    "        result *= i\n",
    "    return result\n",
    "factorial(5)"
   ]
  },
  {
   "cell_type": "code",
   "execution_count": 32,
   "id": "55f420bb-4185-498b-a35f-4033aa077ca9",
   "metadata": {},
   "outputs": [
    {
     "data": {
      "text/plain": [
       "120"
      ]
     },
     "execution_count": 32,
     "metadata": {},
     "output_type": "execute_result"
    }
   ],
   "source": [
    "def factorial(n) :\n",
    "    if n == 0 or n == 1 :\n",
    "        return 1\n",
    "    else :\n",
    "        return n * factorial(n-1)\n",
    "factorial(5)"
   ]
  },
  {
   "cell_type": "code",
   "execution_count": 34,
   "id": "f662d34e-c01c-4427-8fca-db85030eb9c7",
   "metadata": {},
   "outputs": [
    {
     "name": "stdin",
     "output_type": "stream",
     "text": [
      "enter a number tyy\n"
     ]
    },
    {
     "name": "stdout",
     "output_type": "stream",
     "text": [
      "Oops ! please enter a valid integer\n"
     ]
    }
   ],
   "source": [
    "try : \n",
    "    num = int(input(\"enter a number\"))\n",
    "    print(\"square = \",num * num)\n",
    "except ValueError :\n",
    "    print(\"Oops ! please enter a valid integer\")"
   ]
  },
  {
   "cell_type": "code",
   "execution_count": 35,
   "id": "c5d65225-2bad-4c01-bde0-6e7d5de3b266",
   "metadata": {},
   "outputs": [
    {
     "name": "stdin",
     "output_type": "stream",
     "text": [
      "Enter numerator:  10\n",
      "Enter denominator:  0\n"
     ]
    },
    {
     "name": "stdout",
     "output_type": "stream",
     "text": [
      "Oops! Division by zero not allowed.\n"
     ]
    }
   ],
   "source": [
    "try:\n",
    "    a = int(input(\"Enter numerator: \"))\n",
    "    b = int(input(\"Enter denominator: \"))\n",
    "    print(\"Result =\", a / b)\n",
    "except ValueError:\n",
    "    print(\"Invalid input! Please enter numbers only.\")\n",
    "except ZeroDivisionError:\n",
    "    print(\"Oops! Division by zero not allowed.\")\n"
   ]
  },
  {
   "cell_type": "code",
   "execution_count": 36,
   "id": "09e577e7-2159-4a3f-b4ad-0ddf70aa450d",
   "metadata": {},
   "outputs": [
    {
     "name": "stdin",
     "output_type": "stream",
     "text": [
      "Enter numerator:  4\n",
      "Enter denominator:  0\n"
     ]
    },
    {
     "name": "stdout",
     "output_type": "stream",
     "text": [
      "Oops! Division by zero not allowed.\n",
      "closing the program\n"
     ]
    }
   ],
   "source": [
    "try:\n",
    "    a = int(input(\"Enter numerator: \"))\n",
    "    b = int(input(\"Enter denominator: \"))\n",
    "    print(\"Result =\", a / b)\n",
    "except ValueError:\n",
    "    print(\"Invalid input! Please enter numbers only.\")\n",
    "except ZeroDivisionError:\n",
    "    print(\"Oops! Division by zero not allowed.\")\n",
    "finally : \n",
    "    print(\"closing the program\")"
   ]
  },
  {
   "cell_type": "code",
   "execution_count": 39,
   "id": "79e44c17-ab45-4f18-9769-cd22054f03b7",
   "metadata": {},
   "outputs": [
    {
     "name": "stdin",
     "output_type": "stream",
     "text": [
      "enter a number  dfd\n"
     ]
    },
    {
     "name": "stdout",
     "output_type": "stream",
     "text": [
      "Not a number!\n"
     ]
    }
   ],
   "source": [
    "try : \n",
    "    a = int(input(\"enter a number \"))\n",
    "    print( a ** 3)\n",
    "except ValueError :\n",
    "    print(\"Not a number!\")"
   ]
  },
  {
   "cell_type": "code",
   "execution_count": 41,
   "id": "e24d0101-e1c5-4ebd-8f1f-909690021897",
   "metadata": {},
   "outputs": [
    {
     "name": "stdin",
     "output_type": "stream",
     "text": [
      "Enter numerator:  30 \n",
      "Enter denominator:  0\n"
     ]
    },
    {
     "name": "stdout",
     "output_type": "stream",
     "text": [
      "Oops! Division by zero not allowed.\n"
     ]
    }
   ],
   "source": [
    "try:\n",
    "    a = int(input(\"Enter numerator: \"))\n",
    "    b = int(input(\"Enter denominator: \"))\n",
    "    print(\"Result =\", a / b)\n",
    "except ValueError:\n",
    "    print(\"Invalid input! Please enter numbers only.\")\n",
    "except ZeroDivisionError:\n",
    "    print(\"Oops! Division by zero not allowed.\")"
   ]
  },
  {
   "cell_type": "code",
   "execution_count": 44,
   "id": "b2d96986-71ee-4d28-a44b-78b80642670d",
   "metadata": {},
   "outputs": [
    {
     "name": "stdin",
     "output_type": "stream",
     "text": [
      "Enter an integer:  4\n"
     ]
    },
    {
     "name": "stdout",
     "output_type": "stream",
     "text": [
      "square of number : 16\n",
      "cube of number : 64\n"
     ]
    }
   ],
   "source": [
    "while True:   # infinite loop\n",
    "    try:\n",
    "        num = int(input(\"Enter an integer: \"))\n",
    "        print(\"square of number :\", num**2)\n",
    "        print(\"cube of number :\", num**3)\n",
    "        break   # exit loop if success\n",
    "    except ValueError:\n",
    "        print(\"Not a valid integer, please try again.\")\n"
   ]
  },
  {
   "cell_type": "code",
   "execution_count": 45,
   "id": "87c01d23-cedf-470d-a9d0-7adff8c75f27",
   "metadata": {},
   "outputs": [
    {
     "name": "stdout",
     "output_type": "stream",
     "text": [
      "toyota Innova is starting ...\n"
     ]
    }
   ],
   "source": [
    "class Car :\n",
    "    def __init__(self,brand,model) :\n",
    "        self.brand = brand \n",
    "        self.model = model \n",
    "\n",
    "    def start(self) :\n",
    "        print(f\"{self.brand} {self.model} is starting ...\")\n",
    "mycar = Car(\"toyota\",\"Innova\")\n",
    "mycar.start()"
   ]
  },
  {
   "cell_type": "code",
   "execution_count": 46,
   "id": "a294b206-9bb3-4af2-b29f-01cc2b1af59d",
   "metadata": {},
   "outputs": [
    {
     "name": "stdout",
     "output_type": "stream",
     "text": [
      "1500\n"
     ]
    }
   ],
   "source": [
    "class BankAccount:\n",
    "    def __init__(self, owner, balance=0):\n",
    "        self.owner = owner\n",
    "        self.__balance = balance   # private attribute\n",
    "\n",
    "    def deposit(self, amount):\n",
    "        self.__balance += amount\n",
    "\n",
    "    def get_balance(self):\n",
    "        return self.__balance\n",
    "\n",
    "acc = BankAccount(\"Sab\", 1000)\n",
    "acc.deposit(500)\n",
    "print(acc.get_balance())  # 1500\n"
   ]
  },
  {
   "cell_type": "code",
   "execution_count": 47,
   "id": "69f746a6-4496-4bc4-91ce-d9d899bc3f8c",
   "metadata": {},
   "outputs": [
    {
     "name": "stdout",
     "output_type": "stream",
     "text": [
      "Woof!\n",
      "Meow!\n"
     ]
    }
   ],
   "source": [
    "class Animal:\n",
    "    def speak(self):\n",
    "        print(\"I make sounds\")\n",
    "\n",
    "class Dog(Animal):    # Dog inherits from Animal\n",
    "    def speak(self):\n",
    "        print(\"Woof!\")\n",
    "\n",
    "class Cat(Animal):\n",
    "    def speak(self):\n",
    "        print(\"Meow!\")\n",
    "\n",
    "d = Dog()\n",
    "d.speak()  # Woof!\n",
    "\n",
    "c = Cat()\n",
    "c.speak()  # Meow!\n"
   ]
  },
  {
   "cell_type": "code",
   "execution_count": 50,
   "id": "bc696223-b81b-4f01-ae5e-fc08cc1758e6",
   "metadata": {},
   "outputs": [
    {
     "name": "stdout",
     "output_type": "stream",
     "text": [
      "hi!\n"
     ]
    }
   ],
   "source": [
    "class Greeter:\n",
    "    def hello(self):         # 'self' is required\n",
    "        print(\"hi!\")\n",
    "\n",
    "g = Greeter()\n",
    "g.hello()                    # Python turns this into: Greeter.hello(g)\n"
   ]
  },
  {
   "cell_type": "code",
   "execution_count": null,
   "id": "d1ede7be-db92-45fa-ae39-12101e55ab2b",
   "metadata": {},
   "outputs": [],
   "source": []
  },
  {
   "cell_type": "code",
   "execution_count": 1,
   "id": "d8219869-f410-4106-a10f-2562bd5cfdfd",
   "metadata": {},
   "outputs": [
    {
     "data": {
      "text/plain": [
       "2"
      ]
     },
     "execution_count": 1,
     "metadata": {},
     "output_type": "execute_result"
    }
   ],
   "source": []
  },
  {
   "cell_type": "code",
   "execution_count": null,
   "id": "7f261855-6aba-4965-b8b3-005ceac6bded",
   "metadata": {},
   "outputs": [],
   "source": []
  }
 ],
 "metadata": {
  "kernelspec": {
   "display_name": "Python 3 (ipykernel)",
   "language": "python",
   "name": "python3"
  },
  "language_info": {
   "codemirror_mode": {
    "name": "ipython",
    "version": 3
   },
   "file_extension": ".py",
   "mimetype": "text/x-python",
   "name": "python",
   "nbconvert_exporter": "python",
   "pygments_lexer": "ipython3",
   "version": "3.13.5"
  }
 },
 "nbformat": 4,
 "nbformat_minor": 5
}
